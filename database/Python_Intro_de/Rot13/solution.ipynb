{
 "cells": [
  {
   "cell_type": "markdown",
   "metadata": {
    "toc": true
   },
   "source": [
    "<h1>Table of Contents<span class=\"tocSkip\"></span></h1>\n",
    "<div class=\"toc\"><ul class=\"toc-item\"><li><span><a href=\"#ROT13-Verfahren\" data-toc-modified-id=\"ROT13-Verfahren-1\"><span class=\"toc-item-num\">1&nbsp;&nbsp;</span>ROT13 Verfahren</a></span></li></ul></div>"
   ]
  },
  {
   "cell_type": "markdown",
   "metadata": {},
   "source": [
    "### ROT13 Verfahren"
   ]
  },
  {
   "cell_type": "code",
   "execution_count": 1,
   "metadata": {},
   "outputs": [],
   "source": [
    "def rot13(TEXT):\n",
    "    # Dictionary der Buchstaben und deren Stellen\n",
    "    charDict = {'A' : 1, 'B' : 2, 'C' : 3, 'D' : 4, 'E' : 5, \n",
    "        'F' : 6, 'G' : 7, 'H' : 8, 'I' : 9, 'J' : 10, \n",
    "        'K' : 11, 'L' : 12, 'M' : 13, 'N' : 14, 'O' : 15, \n",
    "        'P' : 16, 'Q' : 17, 'R' : 18, 'S' : 19, 'T' : 20, \n",
    "        'U' : 21, 'V' : 22, 'W' : 23, 'X' : 24, 'Y' : 25, 'Z' : 26} \n",
    "    # Umgekehrtes Dictionary der Stellen und den entspr. Buchstaben.\n",
    "    posDict = {0 : 'Z', 1 : 'A', 2 : 'B', 3 : 'C', 4 : 'D', 5 : 'E', \n",
    "        6 : 'F', 7 : 'G', 8 : 'H', 9 : 'I', 10 : 'J', \n",
    "        11 : 'K', 12 : 'L', 13 : 'M', 14 : 'N', 15 : 'O', \n",
    "        16 : 'P', 17 : 'Q', 18 : 'R', 19 : 'S', 20 : 'T', \n",
    "        21 : 'U', 22 : 'V', 23 : 'W', 24 : 'X', 25 : 'Y'} \n",
    "    shiftedPositions = [(charDict[char] + 13) % 26 for char in TEXT]\n",
    "    GRKG = \"\"\n",
    "    for newPos in shiftedPositions:\n",
    "        GRKG +=  posDict[newPos]\n",
    "    return GRKG\n",
    "        "
   ]
  },
  {
   "cell_type": "code",
   "execution_count": 2,
   "metadata": {},
   "outputs": [
    {
     "data": {
      "text/plain": [
       "'UNYYB'"
      ]
     },
     "execution_count": 2,
     "metadata": {},
     "output_type": "execute_result"
    }
   ],
   "source": [
    "# Vorwärts\n",
    "rot13(\"HALLO\")"
   ]
  },
  {
   "cell_type": "code",
   "execution_count": 21,
   "metadata": {},
   "outputs": [
    {
     "data": {
      "text/plain": [
       "'HALLO'"
      ]
     },
     "execution_count": 21,
     "metadata": {},
     "output_type": "execute_result"
    }
   ],
   "source": [
    "# Rückwärts\n",
    "rot13(\"UNYYB\")"
   ]
  },
  {
   "cell_type": "code",
   "execution_count": null,
   "metadata": {},
   "outputs": [],
   "source": []
  }
 ],
 "metadata": {
  "kernelspec": {
   "display_name": "Python 3",
   "language": "python",
   "name": "python3"
  },
  "language_info": {
   "codemirror_mode": {
    "name": "ipython",
    "version": 3
   },
   "file_extension": ".py",
   "mimetype": "text/x-python",
   "name": "python",
   "nbconvert_exporter": "python",
   "pygments_lexer": "ipython3",
   "version": "3.8.10"
  },
  "latex_envs": {
   "LaTeX_envs_menu_present": true,
   "autoclose": true,
   "autocomplete": true,
   "bibliofile": "biblio.bib",
   "cite_by": "apalike",
   "current_citInitial": 1,
   "eqLabelWithNumbers": true,
   "eqNumInitial": 1,
   "hotkeys": {
    "equation": "Ctrl-E",
    "itemize": "Ctrl-I"
   },
   "labels_anchors": false,
   "latex_user_defs": false,
   "report_style_numbering": false,
   "user_envs_cfg": false
  },
  "toc": {
   "base_numbering": 1,
   "nav_menu": {},
   "number_sections": true,
   "sideBar": true,
   "skip_h1_title": false,
   "title_cell": "Table of Contents",
   "title_sidebar": "Contents",
   "toc_cell": true,
   "toc_position": {},
   "toc_section_display": true,
   "toc_window_display": false
  }
 },
 "nbformat": 4,
 "nbformat_minor": 4
}
