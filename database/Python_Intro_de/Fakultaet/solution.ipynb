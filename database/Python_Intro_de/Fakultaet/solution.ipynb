{
 "cells": [
  {
   "cell_type": "code",
   "execution_count": 1,
   "metadata": {},
   "outputs": [
    {
     "name": "stdout",
     "output_type": "stream",
     "text": [
      "Gib eine ganze Zahl ein: 4\n",
      "4! = \n",
      " 24 (iteratively),\n",
      " 24 (recursively)\n",
      "Gib eine ganze Zahl ein: 0\n",
      "Das Programm wird beendet.\n"
     ]
    }
   ],
   "source": [
    "def fac(n):\n",
    "    \"\"\"\n",
    "    computes the faculty n! of a positive integer using a loop\n",
    "    \"\"\"\n",
    "    result = 1\n",
    "    for i in range(2, n+1):\n",
    "        result *= i\n",
    "    return result\n",
    "\n",
    "def facRecursion(n):\n",
    "    \"\"\"\n",
    "    computes the faculty n! of a positive integer using recursion\n",
    "    \"\"\"\n",
    "    if n == 1:\n",
    "        return 1\n",
    "    else:\n",
    "        return n * facRecursion(n-1)\n",
    "\n",
    "def facCompute():\n",
    "    \"\"\" \n",
    "    compute the faculty n! of some keyboard input value n\n",
    "    \"\"\"\n",
    "    while True:\n",
    "        n = int(input(\"Gib eine ganze Zahl ein: \"))\n",
    "        if n < 0:\n",
    "            print(\"Negative Zahlen sind nicht erlaubt\")\n",
    "            continue\n",
    "        elif n == 0:\n",
    "            print(\"Das Programm wird beendet.\")\n",
    "            break\n",
    "        else:\n",
    "            print(str(n)+\"! = \\n\",fac(n), \"(iteratively),\\n\", facRecursion(n),\"(recursively)\")\n",
    "\n",
    "if __name__ == \"__main__\":\n",
    "    facCompute()\n"
   ]
  }
 ],
 "metadata": {
  "kernelspec": {
   "display_name": "Python 3",
   "language": "python",
   "name": "python3"
  },
  "language_info": {
   "codemirror_mode": {
    "name": "ipython",
    "version": 3
   },
   "file_extension": ".py",
   "mimetype": "text/x-python",
   "name": "python",
   "nbconvert_exporter": "python",
   "pygments_lexer": "ipython3",
   "version": "3.6.9"
  },
  "latex_envs": {
   "LaTeX_envs_menu_present": true,
   "autoclose": true,
   "autocomplete": true,
   "bibliofile": "biblio.bib",
   "cite_by": "apalike",
   "current_citInitial": 1,
   "eqLabelWithNumbers": true,
   "eqNumInitial": 1,
   "hotkeys": {
    "equation": "Ctrl-E",
    "itemize": "Ctrl-I"
   },
   "labels_anchors": false,
   "latex_user_defs": false,
   "report_style_numbering": false,
   "user_envs_cfg": false
  },
  "toc": {
   "base_numbering": 1,
   "nav_menu": {},
   "number_sections": true,
   "sideBar": true,
   "skip_h1_title": false,
   "title_cell": "Table of Contents",
   "title_sidebar": "Contents",
   "toc_cell": true,
   "toc_position": {},
   "toc_section_display": true,
   "toc_window_display": false
  },
  "varInspector": {
   "cols": {
    "lenName": 16,
    "lenType": 16,
    "lenVar": 40
   },
   "kernels_config": {
    "python": {
     "delete_cmd_postfix": "",
     "delete_cmd_prefix": "del ",
     "library": "var_list.py",
     "varRefreshCmd": "print(var_dic_list())"
    },
    "r": {
     "delete_cmd_postfix": ") ",
     "delete_cmd_prefix": "rm(",
     "library": "var_list.r",
     "varRefreshCmd": "cat(var_dic_list()) "
    }
   },
   "types_to_exclude": [
    "module",
    "function",
    "builtin_function_or_method",
    "instance",
    "_Feature"
   ],
   "window_display": false
  }
 },
 "nbformat": 4,
 "nbformat_minor": 4
}
