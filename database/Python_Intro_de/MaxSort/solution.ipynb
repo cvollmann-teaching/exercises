{
 "cells": [
  {
   "cell_type": "markdown",
   "metadata": {},
   "source": [
    "### Sortiere eine Liste mit MaxSort"
   ]
  },
  {
   "cell_type": "code",
   "execution_count": 9,
   "metadata": {},
   "outputs": [],
   "source": [
    "def maximum(inputList):\n",
    "    \"\"\"\n",
    "    Returns the value and the index of the maximal value in a list.\n",
    "\n",
    "    :param inputList: type list\n",
    "    :return: value, index\n",
    "    \"\"\"\n",
    "    currentIndex = 0\n",
    "    currentVal = inputList[currentIndex]\n",
    "    for i, v in enumerate(inputList):\n",
    "        if v > currentVal:\n",
    "            currentIndex = i\n",
    "            currentVal = v\n",
    "    return currentVal, currentIndex"
   ]
  },
  {
   "cell_type": "markdown",
   "metadata": {},
   "source": [
    "(i) Test ob eine Liste sortiert ist"
   ]
  },
  {
   "cell_type": "code",
   "execution_count": 10,
   "metadata": {},
   "outputs": [],
   "source": [
    "def isSorted(inputList):\n",
    "    \"\"\"\n",
    "    Checks whether a list is sorted (descending) by comparing\n",
    "    all adjacency pairs\n",
    "\n",
    "    :param inputList: list\n",
    "    :return: bool\n",
    "    \"\"\"\n",
    "    value = inputList[0]\n",
    "    for nextValue in inputList[1:]:\n",
    "        if value < nextValue:\n",
    "            return False\n",
    "        value = nextValue\n",
    "    return True"
   ]
  },
  {
   "cell_type": "markdown",
   "metadata": {},
   "source": [
    "(ii) Schreibe eine Funktion, die eine Liste sortiert."
   ]
  },
  {
   "cell_type": "code",
   "execution_count": 11,
   "metadata": {},
   "outputs": [],
   "source": [
    "def sort(inputList):\n",
    "    \"\"\"\n",
    "    Sorts the inputList and returns the result.\n",
    "\n",
    "    :param inputList: list\n",
    "    :return: list\n",
    "    \"\"\"\n",
    "    newList = []\n",
    "    while inputList:\n",
    "        value, index = maximum(inputList)\n",
    "        inputList.pop(index)  # die Methode .pop(i) entfernt das i-te Element (in-place)\n",
    "        newList.append(value)  # die Methode .append() fügt ein Element zur Liste hinzu\n",
    "    return newList"
   ]
  },
  {
   "cell_type": "code",
   "execution_count": 12,
   "metadata": {},
   "outputs": [
    {
     "name": "stdout",
     "output_type": "stream",
     "text": [
      "Output: [10, 7, 6, 2, 0]\n",
      "is Sorted: True\n"
     ]
    }
   ],
   "source": [
    "inputList = [0, 2, 7, 6,10]\n",
    "outputList = sort(inputList)\n",
    "print(\"Output:\", outputList)\n",
    "# print(inputList)\n",
    "print(\"is Sorted:\", isSorted(outputList))"
   ]
  },
  {
   "cell_type": "code",
   "execution_count": null,
   "metadata": {},
   "outputs": [],
   "source": []
  }
 ],
 "metadata": {
  "kernelspec": {
   "display_name": "Python 3",
   "language": "python",
   "name": "python3"
  },
  "language_info": {
   "codemirror_mode": {
    "name": "ipython",
    "version": 3
   },
   "file_extension": ".py",
   "mimetype": "text/x-python",
   "name": "python",
   "nbconvert_exporter": "python",
   "pygments_lexer": "ipython3",
   "version": "3.8.10"
  },
  "latex_envs": {
   "LaTeX_envs_menu_present": true,
   "autoclose": true,
   "autocomplete": true,
   "bibliofile": "biblio.bib",
   "cite_by": "apalike",
   "current_citInitial": 1,
   "eqLabelWithNumbers": true,
   "eqNumInitial": 1,
   "hotkeys": {
    "equation": "Ctrl-E",
    "itemize": "Ctrl-I"
   },
   "labels_anchors": false,
   "latex_user_defs": false,
   "report_style_numbering": false,
   "user_envs_cfg": false
  },
  "toc": {
   "base_numbering": 1,
   "nav_menu": {},
   "number_sections": true,
   "sideBar": true,
   "skip_h1_title": false,
   "title_cell": "Table of Contents",
   "title_sidebar": "Contents",
   "toc_cell": true,
   "toc_position": {},
   "toc_section_display": true,
   "toc_window_display": false
  },
  "varInspector": {
   "cols": {
    "lenName": 16,
    "lenType": 16,
    "lenVar": 40
   },
   "kernels_config": {
    "python": {
     "delete_cmd_postfix": "",
     "delete_cmd_prefix": "del ",
     "library": "var_list.py",
     "varRefreshCmd": "print(var_dic_list())"
    },
    "r": {
     "delete_cmd_postfix": ") ",
     "delete_cmd_prefix": "rm(",
     "library": "var_list.r",
     "varRefreshCmd": "cat(var_dic_list()) "
    }
   },
   "types_to_exclude": [
    "module",
    "function",
    "builtin_function_or_method",
    "instance",
    "_Feature"
   ],
   "window_display": false
  }
 },
 "nbformat": 4,
 "nbformat_minor": 4
}
