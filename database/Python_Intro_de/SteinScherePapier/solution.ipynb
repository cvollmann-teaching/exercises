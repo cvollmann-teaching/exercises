{
 "cells": [
  {
   "cell_type": "markdown",
   "metadata": {
    "toc": true
   },
   "source": [
    "<h1>Table of Contents<span class=\"tocSkip\"></span></h1>\n",
    "<div class=\"toc\"><ul class=\"toc-item\"><li><span><a href=\"#Schere-Stein-papier\" data-toc-modified-id=\"Schere-Stein-papier-1\"><span class=\"toc-item-num\">1&nbsp;&nbsp;</span>Schere Stein papier</a></span></li></ul></div>"
   ]
  },
  {
   "cell_type": "markdown",
   "metadata": {},
   "source": [
    "### Schere Stein papier"
   ]
  },
  {
   "cell_type": "code",
   "execution_count": 2,
   "metadata": {},
   "outputs": [
    {
     "name": "stdout",
     "output_type": "stream",
     "text": [
      "Spiele Schere-Stein-Papier mit mir!\n",
      "Bitte wähle: Schere (0), Stein (1) oder Papier (2)\n",
      "Um das Spiel zu beenden, schreibe: End\n",
      "Deine Wahl: 0\n",
      "Computer: 2\n",
      "Du hast gewonnen!\n",
      "Deine Wahl: 1\n",
      "Computer: 2\n",
      "Du hast verloren!\n",
      "Deine Wahl: End\n"
     ]
    }
   ],
   "source": [
    "import random\n",
    "\n",
    "print(\"Spiele Schere-Stein-Papier mit mir!\")\n",
    "print(\"Bitte wähle: Schere (0), Stein (1) oder Papier (2)\")\n",
    "print(\"Um das Spiel zu beenden, schreibe: End\")\n",
    "\n",
    "Handzeichen = [0, 1, 2]\n",
    "\n",
    "while True:\n",
    "    Eingabe = input(\"Deine Wahl: \")\n",
    "    if Eingabe == \"End\":\n",
    "        break\n",
    "        \n",
    "    Eingabe = int(Eingabe)\n",
    "    random.shuffle(Handzeichen)\n",
    "    Computer = Handzeichen[0]\n",
    "    \n",
    "    print(\"Computer: \" + str(Computer))\n",
    "    \n",
    "    if Computer == (Eingabe)%3:\n",
    "        print(\"Unentschieden!\")\n",
    "    elif Computer == (Eingabe + 1)%3:\n",
    "        print(\"Du hast verloren!\")\n",
    "    elif Computer == (Eingabe + 2)%3:\n",
    "        print(\"Du hast gewonnen!\")"
   ]
  },
  {
   "cell_type": "code",
   "execution_count": 8,
   "metadata": {},
   "outputs": [
    {
     "name": "stdout",
     "output_type": "stream",
     "text": [
      "Help on method shuffle in module random:\n",
      "\n",
      "shuffle(x, random=None) method of random.Random instance\n",
      "    Shuffle list x in place, and return None.\n",
      "    \n",
      "    Optional argument random is a 0-argument function returning a\n",
      "    random float in [0.0, 1.0); if it is the default None, the\n",
      "    standard random.random will be used.\n",
      "\n"
     ]
    }
   ],
   "source": [
    "help(random.shuffle)"
   ]
  }
 ],
 "metadata": {
  "kernelspec": {
   "display_name": "Python 3",
   "language": "python",
   "name": "python3"
  },
  "language_info": {
   "codemirror_mode": {
    "name": "ipython",
    "version": 3
   },
   "file_extension": ".py",
   "mimetype": "text/x-python",
   "name": "python",
   "nbconvert_exporter": "python",
   "pygments_lexer": "ipython3",
   "version": "3.8.10"
  },
  "toc": {
   "base_numbering": 1,
   "nav_menu": {},
   "number_sections": true,
   "sideBar": true,
   "skip_h1_title": false,
   "title_cell": "Table of Contents",
   "title_sidebar": "Contents",
   "toc_cell": true,
   "toc_position": {},
   "toc_section_display": true,
   "toc_window_display": false
  },
  "varInspector": {
   "cols": {
    "lenName": 16,
    "lenType": 16,
    "lenVar": 40
   },
   "kernels_config": {
    "python": {
     "delete_cmd_postfix": "",
     "delete_cmd_prefix": "del ",
     "library": "var_list.py",
     "varRefreshCmd": "print(var_dic_list())"
    },
    "r": {
     "delete_cmd_postfix": ") ",
     "delete_cmd_prefix": "rm(",
     "library": "var_list.r",
     "varRefreshCmd": "cat(var_dic_list()) "
    }
   },
   "types_to_exclude": [
    "module",
    "function",
    "builtin_function_or_method",
    "instance",
    "_Feature"
   ],
   "window_display": false
  }
 },
 "nbformat": 4,
 "nbformat_minor": 4
}
