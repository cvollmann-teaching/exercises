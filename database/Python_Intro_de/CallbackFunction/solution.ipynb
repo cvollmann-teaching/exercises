{
 "cells": [
  {
   "cell_type": "markdown",
   "metadata": {},
   "source": [
    "### Nested Functions with **kwargs"
   ]
  },
  {
   "cell_type": "code",
   "execution_count": 50,
   "metadata": {},
   "outputs": [],
   "source": [
    "from random import random\n",
    "\n",
    "def algorithm(xstart, callback = None, **kwargs):\n",
    "    \"\"\"\n",
    "    dummy algorithm.\n",
    "    \n",
    "    :param xstart: float\n",
    "    :param callback: callback function with signature callback(xstart, **kwargs)\n",
    "    :param **kwargs: additional parameters for callback\n",
    "    \"\"\"\n",
    "    for _ in range(10):\n",
    "        if callback:\n",
    "            callback(xstart, **kwargs)\n",
    "        xstart += (random()-.5)\n",
    "    return xstart"
   ]
  },
  {
   "cell_type": "code",
   "execution_count": 51,
   "metadata": {},
   "outputs": [],
   "source": [
    "def callback(x):\n",
    "    \"\"\"\n",
    "    callback function. Prints the iterate x whenever it is called in the outer algorithm.\n",
    "   \n",
    "    :param x: Current iterate\n",
    "    \"\"\"\n",
    "    print(x)"
   ]
  },
  {
   "cell_type": "code",
   "execution_count": 56,
   "metadata": {
    "scrolled": true
   },
   "outputs": [
    {
     "name": "stdout",
     "output_type": "stream",
     "text": [
      "1\n",
      "1.1693953374045294\n",
      "0.806212650706135\n",
      "0.5759021329606026\n",
      "0.08027584299356394\n",
      "0.09519073877433415\n",
      "0.279968801573674\n",
      "0.12188364263242746\n",
      "0.40863076197444914\n",
      "0.02447791408610256\n",
      "xfinal:  0.023105841317962117\n"
     ]
    }
   ],
   "source": [
    "xfinal = algorithm(1, callback=callback)\n",
    "print(\"xfinal: \", xfinal)"
   ]
  },
  {
   "cell_type": "markdown",
   "metadata": {},
   "source": [
    "**Vorteil der Nutzung von \\*\\*kwargs**\n",
    "\n",
    "Wir definieren nun `callback()` neu, ohne `algorithm()` zu verändern. Das bedeutet, \n",
    "der Nutzer von `algorithm()` kann seine callback-Funktion nach belieben definieren und einsetzten und muss dazu (den eventuell schrecklich komplizierten) Algorithmus nicht anfassen!"
   ]
  },
  {
   "cell_type": "code",
   "execution_count": 53,
   "metadata": {},
   "outputs": [],
   "source": [
    "def callback(x, threshold=0.0):\n",
    "    \"\"\"\n",
    "    callback function. Prints the iterate x if its called and x > threshold.\n",
    "   \n",
    "    :param x: Current iterate\n",
    "    :param threshold: threshold=0.0 (optional)\n",
    "    \"\"\"\n",
    "    if x > threshold:\n",
    "        print(x)"
   ]
  },
  {
   "cell_type": "code",
   "execution_count": 59,
   "metadata": {},
   "outputs": [
    {
     "name": "stdout",
     "output_type": "stream",
     "text": [
      "1.8478049601687205\n",
      "2.106120793475973\n",
      "2.1046178971677283\n",
      "1.7759207471044522\n",
      "2.223745429380485\n",
      "2.6689362945400426\n",
      "2.271189078065762\n",
      "xfinal:  2.431587119150788\n"
     ]
    }
   ],
   "source": [
    "xfinal = algorithm(1, callback=callback, threshold=1.6)   \n",
    "print(\"xfinal: \", xfinal)"
   ]
  },
  {
   "cell_type": "code",
   "execution_count": null,
   "metadata": {},
   "outputs": [],
   "source": []
  }
 ],
 "metadata": {
  "kernelspec": {
   "display_name": "Python 3",
   "language": "python",
   "name": "python3"
  },
  "language_info": {
   "codemirror_mode": {
    "name": "ipython",
    "version": 3
   },
   "file_extension": ".py",
   "mimetype": "text/x-python",
   "name": "python",
   "nbconvert_exporter": "python",
   "pygments_lexer": "ipython3",
   "version": "3.8.10"
  },
  "latex_envs": {
   "LaTeX_envs_menu_present": true,
   "autoclose": true,
   "autocomplete": true,
   "bibliofile": "biblio.bib",
   "cite_by": "apalike",
   "current_citInitial": 1,
   "eqLabelWithNumbers": true,
   "eqNumInitial": 1,
   "hotkeys": {
    "equation": "Ctrl-E",
    "itemize": "Ctrl-I"
   },
   "labels_anchors": false,
   "latex_user_defs": false,
   "report_style_numbering": false,
   "user_envs_cfg": false
  },
  "toc": {
   "base_numbering": 1,
   "nav_menu": {},
   "number_sections": true,
   "sideBar": true,
   "skip_h1_title": false,
   "title_cell": "Table of Contents",
   "title_sidebar": "Contents",
   "toc_cell": true,
   "toc_position": {},
   "toc_section_display": true,
   "toc_window_display": false
  }
 },
 "nbformat": 4,
 "nbformat_minor": 4
}
