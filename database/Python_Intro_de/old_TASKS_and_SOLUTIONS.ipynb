{
 "cells": [
  {
   "cell_type": "markdown",
   "metadata": {
    "toc": true
   },
   "source": [
    "<h1>Übungsaufgaben Programmierpraktikum WS 2019/202 <span class=\"tocSkip\"></span></h1>\n",
    "<div class=\"toc\"><ul class=\"toc-item\"><li><span><a href=\"#Installation\" data-toc-modified-id=\"Installation-1\"><span class=\"toc-item-num\">1&nbsp;&nbsp;</span>Installation</a></span></li><li><span><a href=\"#Verschaffe-Dir-einen-Überlick-zu-den-Tutorials\" data-toc-modified-id=\"Verschaffe-Dir-einen-Überlick-zu-den-Tutorials-2\"><span class=\"toc-item-num\">2&nbsp;&nbsp;</span>Verschaffe Dir einen Überlick zu den Tutorials</a></span></li><li><span><a href=\"#Interaktiver-Modus\" data-toc-modified-id=\"Interaktiver-Modus-3\"><span class=\"toc-item-num\">3&nbsp;&nbsp;</span>Interaktiver Modus</a></span></li><li><span><a href=\"#Mein-erstes-Programm\" data-toc-modified-id=\"Mein-erstes-Programm-4\"><span class=\"toc-item-num\">4&nbsp;&nbsp;</span>Mein erstes Programm</a></span></li><li><span><a href=\"#Zahlen-raten\" data-toc-modified-id=\"Zahlen-raten-5\"><span class=\"toc-item-num\">5&nbsp;&nbsp;</span>Zahlen raten</a></span></li><li><span><a href=\"#$\\text{log}(2)$\" data-toc-modified-id=\"$\\text{log}(2)$-6\"><span class=\"toc-item-num\">6&nbsp;&nbsp;</span>$\\text{log}(2)$</a></span></li><li><span><a href=\"#Sortieren-I-(geeignet-für-die-Prüfung)\" data-toc-modified-id=\"Sortieren-I-(geeignet-für-die-Prüfung)-7\"><span class=\"toc-item-num\">7&nbsp;&nbsp;</span>Sortieren I <span style=\"color: violet\">(geeignet für die Prüfung)</span></a></span></li><li><span><a href=\"#Palindrom\" data-toc-modified-id=\"Palindrom-8\"><span class=\"toc-item-num\">8&nbsp;&nbsp;</span>Palindrom</a></span></li><li><span><a href=\"#Heron-Formel-$\\sqrt{a}$--(geeignet-für-die-Prüfung)\" data-toc-modified-id=\"Heron-Formel-$\\sqrt{a}$--(geeignet-für-die-Prüfung)-9\"><span class=\"toc-item-num\">9&nbsp;&nbsp;</span>Heron-Formel $\\sqrt{a}$  <span style=\"color: violet\">(geeignet für die Prüfung)</span></a></span></li><li><span><a href=\"#Liste-erzeugen\" data-toc-modified-id=\"Liste-erzeugen-10\"><span class=\"toc-item-num\">10&nbsp;&nbsp;</span>Liste erzeugen</a></span></li><li><span><a href=\"#Fakultät-(geeignet-für-die-Prüfung)\" data-toc-modified-id=\"Fakultät-(geeignet-für-die-Prüfung)-11\"><span class=\"toc-item-num\">11&nbsp;&nbsp;</span>Fakultät <span style=\"color: violet\">(geeignet für die Prüfung)</span></a></span></li><li><span><a href=\"#Sequentielle-Datentypen:-Caesar-Verschlüsselung-(geeignet-für-die-Prüfung)\" data-toc-modified-id=\"Sequentielle-Datentypen:-Caesar-Verschlüsselung-(geeignet-für-die-Prüfung)-12\"><span class=\"toc-item-num\">12&nbsp;&nbsp;</span>Sequentielle Datentypen: Caesar-Verschlüsselung <span style=\"color: violet\">(geeignet für die Prüfung)</span></a></span></li><li><span><a href=\"#Matrix-Vektor-Produkt-mit-list-(geeignet-für-die-Prüfung)\" data-toc-modified-id=\"Matrix-Vektor-Produkt-mit-list-(geeignet-für-die-Prüfung)-13\"><span class=\"toc-item-num\">13&nbsp;&nbsp;</span>Matrix-Vektor Produkt mit <code>list</code> <span style=\"color: violet\">(geeignet für die Prüfung)</span></a></span></li><li><span><a href=\"#Sparse-Formate:-CSC-to-CSR-(geeignet-für-die-Prüfung)\" data-toc-modified-id=\"Sparse-Formate:-CSC-to-CSR-(geeignet-für-die-Prüfung)-14\"><span class=\"toc-item-num\">14&nbsp;&nbsp;</span>Sparse Formate: CSC to CSR <span style=\"color: violet\">(geeignet für die Prüfung)</span></a></span></li><li><span><a href=\"#Vektoroperationen-für-Listen\" data-toc-modified-id=\"Vektoroperationen-für-Listen-15\"><span class=\"toc-item-num\">15&nbsp;&nbsp;</span>Vektoroperationen für Listen</a></span></li><li><span><a href=\"#Sparse-Matrix-Matrix-Produkt:-CSC--(geeignet-für-die-Prüfung)\" data-toc-modified-id=\"Sparse-Matrix-Matrix-Produkt:-CSC--(geeignet-für-die-Prüfung)-16\"><span class=\"toc-item-num\">16&nbsp;&nbsp;</span>Sparse Matrix-Matrix Produkt: CSC  <span style=\"color: violet\">(geeignet für die Prüfung)</span></a></span></li><li><span><a href=\"#Iterative-Löser-(splitting-methods)-mit-Sparse-Formate-(geeignet-für-die-Prüfung)\" data-toc-modified-id=\"Iterative-Löser-(splitting-methods)-mit-Sparse-Formate-(geeignet-für-die-Prüfung)-17\"><span class=\"toc-item-num\">17&nbsp;&nbsp;</span>Iterative Löser (splitting methods) mit Sparse Formate <span style=\"color: violet\">(geeignet für die Prüfung)</span></a></span></li><li><span><a href=\"#Numpy\" data-toc-modified-id=\"Numpy-18\"><span class=\"toc-item-num\">18&nbsp;&nbsp;</span>Numpy</a></span></li><li><span><a href=\"#Iterative-Löser-(splitting-methods)-mit-Numpy-(geeignet-für-die-Prüfung)\" data-toc-modified-id=\"Iterative-Löser-(splitting-methods)-mit-Numpy-(geeignet-für-die-Prüfung)-19\"><span class=\"toc-item-num\">19&nbsp;&nbsp;</span>Iterative Löser (splitting methods) mit Numpy <span style=\"color: violet\">(geeignet für die Prüfung)</span></a></span></li><li><span><a href=\"#Polynome-(geeignet-für-die-Prüfung)\" data-toc-modified-id=\"Polynome-(geeignet-für-die-Prüfung)-20\"><span class=\"toc-item-num\">20&nbsp;&nbsp;</span>Polynome <span style=\"color: violet\">(geeignet für die Prüfung)</span></a></span></li><li><span><a href=\"#Conway's-Game-of-Life-(geeignet-für-die-Prüfung)\" data-toc-modified-id=\"Conway's-Game-of-Life-(geeignet-für-die-Prüfung)-21\"><span class=\"toc-item-num\">21&nbsp;&nbsp;</span>Conway's Game of Life <span style=\"color: violet\">(geeignet für die Prüfung)</span></a></span></li><li><span><a href=\"#Prime-number-sieve-(geeignet-für-die-Prüfung)\" data-toc-modified-id=\"Prime-number-sieve-(geeignet-für-die-Prüfung)-22\"><span class=\"toc-item-num\">22&nbsp;&nbsp;</span>Prime number sieve <span style=\"color: violet\">(geeignet für die Prüfung)</span></a></span></li><li><span><a href=\"#Skizzieren\" data-toc-modified-id=\"Skizzieren-23\"><span class=\"toc-item-num\">23&nbsp;&nbsp;</span>Skizzieren</a></span></li><li><span><a href=\"#Einfache-Modularisierung-(geeignet-für-die-Prüfung)\" data-toc-modified-id=\"Einfache-Modularisierung-(geeignet-für-die-Prüfung)-24\"><span class=\"toc-item-num\">24&nbsp;&nbsp;</span>Einfache Modularisierung <span style=\"color: violet\">(geeignet für die Prüfung)</span></a></span></li><li><span><a href=\"#Mandelbrot\" data-toc-modified-id=\"Mandelbrot-25\"><span class=\"toc-item-num\">25&nbsp;&nbsp;</span>Mandelbrot</a></span></li><li><span><a href=\"#Markovkette\" data-toc-modified-id=\"Markovkette-26\"><span class=\"toc-item-num\">26&nbsp;&nbsp;</span>Markovkette</a></span></li><li><span><a href=\"#Integral-Approximation\" data-toc-modified-id=\"Integral-Approximation-27\"><span class=\"toc-item-num\">27&nbsp;&nbsp;</span>Integral Approximation</a></span></li><li><span><a href=\"#Load-Numpy-Arrays\" data-toc-modified-id=\"Load-Numpy-Arrays-28\"><span class=\"toc-item-num\">28&nbsp;&nbsp;</span>Load Numpy Arrays</a></span></li></ul></div>"
   ]
  },
  {
   "cell_type": "markdown",
   "metadata": {},
   "source": [
    "## Installation\n",
    "\n",
    "Zum Arbeiten auf einem Privatrechner intalliere die Distribution *Anaconda*.\n"
   ]
  },
  {
   "cell_type": "markdown",
   "metadata": {},
   "source": [
    "## Verschaffe Dir einen Überlick zu den Tutorials\n",
    "\n",
    "Python docs:\n",
    "- https://docs.python.org/3/\n",
    "    - with the tutorial: https://docs.python.org/3/tutorial/index.html\n",
    "\n",
    "Python wiki:\n",
    "- https://wiki.python.org/moin/\n",
    "    - Beginner's Guide Python (eher Ansammlung von Links zu anderen Tutorials)\n",
    "        - https://wiki.python.org/moin/BeginnersGuide\n",
    "        - for math: https://wiki.python.org/moin/BeginnersGuide/Mathematics\n",
    "\n",
    "SciPy Stack Tutorial [basics, numpy, scipy, matplotlib] (mit basics für python und teilweise Aufgaben)\n",
    "- https://scipy-lectures.org/\n",
    "\n",
    "Numpy User Guide\n",
    "\n",
    "- https://numpy.org/doc/1.18/user/index.html\n",
    "    \n",
    "SciPy User Guide\n",
    "\n",
    "- https://docs.scipy.org/doc/scipy/reference/tutorial/index.html\n",
    "    \n",
    "Matplotlib\n",
    "\n",
    "- https://matplotlib.org/users/index.html\n",
    "\n",
    "IPython user manual: \n",
    "- http://ipython.org/ipython-doc/dev/index.html\n",
    "\n",
    "Jupyter Notebook QuickStart: \n",
    "- http://jupyter.readthedocs.io/en/latest/content-quickstart.html"
   ]
  },
  {
   "cell_type": "markdown",
   "metadata": {},
   "source": [
    "## Interaktiver Modus\n",
    "\n",
    "Teste alle Inhalte der ersten Vorlesung in der IPython-Konsole (entweder im Terminal, in Spyder oder in Jupyter Notebook)."
   ]
  },
  {
   "cell_type": "markdown",
   "metadata": {},
   "source": [
    "## Mein erstes Programm\n",
    "\n",
    "Schreibe ein kleines Programm (zum Beispiel zur Ausgabe der $n$-ten Partialsumme $\\sum_{k=1}^n a_k$ einer Folge ${(a_k)}_{k\\in\\mathbb{N}} \\in \\mathbb{R}^\\mathbb{N}$) und nutze dabei folgende drei Varianten:\n",
    "\n",
    "\\begin{enumerate}\n",
    "\\item Texteditor + Konsolenausführung\n",
    "\\item IDE (Spyder3)\n",
    "\\item Jupyter Notebook: Nutze Zellen unterschiedlichen Typs, um dein Programm zu\n",
    " präsentieren. Mache Dich dabei mit der Einbindung von *markdown* und *Latex* vertraut.\n",
    "\\end{enumerate}"
   ]
  },
  {
   "cell_type": "markdown",
   "metadata": {},
   "source": [
    "<span style=\"color:red; font-size:14pt\"> Lösung:</span>"
   ]
  },
  {
   "cell_type": "code",
   "execution_count": 1,
   "metadata": {},
   "outputs": [],
   "source": [
    "n = 100\n",
    "def a(k):\n",
    "    return 1. / k**2\n",
    "summe = 0\n",
    "for k in range(1,n+1):\n",
    "    summe += a(k)\n",
    "print(summe)"
   ]
  },
  {
   "cell_type": "markdown",
   "metadata": {},
   "source": [
    "## Zahlen raten\n",
    "\n",
    "Schreibe ein Python-Programm, welches programm-intern eine \"geheime\" Zahl festlegt und den Benutzer solange auffordert eine Zahl einzugeben, bis diese der geheimen Zahl entspricht. Beende das Programm, wenn der Benutzer `0` eingibt."
   ]
  },
  {
   "cell_type": "markdown",
   "metadata": {},
   "source": [
    "<span style=\"color:red; font-size:14pt\"> Lösung:</span>"
   ]
  },
  {
   "cell_type": "code",
   "execution_count": 2,
   "metadata": {},
   "outputs": [
    {
     "name": "stdout",
     "output_type": "stream",
     "text": [
      "Have a good guess: 0\n",
      "Goodbye!\n"
     ]
    }
   ],
   "source": [
    "secret = 666\n",
    "guess = 0\n",
    "while guess != secret:\n",
    "    guess = int(input(\"Have a good guess: \"))\n",
    "    if guess == 0:\n",
    "        print(\"Goodbye!\")\n",
    "        break\n",
    "\n",
    "    elif guess == secret:\n",
    "        print(\"Well done!\")\n",
    "        break\n",
    "        \n",
    "# Alternative zu \"elif zu if\": \"else zu while\"\n",
    "#else:\n",
    "#    print(\"Well done!\")"
   ]
  },
  {
   "cell_type": "markdown",
   "metadata": {},
   "source": [
    "## $\\text{log}(2)$\n",
    "\n",
    "Berechne eine Näherung von $\\text{log}(2) \\approx 0,69314718$ mittels der alternierenden Reihe \n",
    "$$\n",
    "1 - \\frac{1}{2} + \\frac{1}{3} - \\frac{1}{4} + \\frac{1}{5}.... . \n",
    "$$"
   ]
  },
  {
   "cell_type": "markdown",
   "metadata": {},
   "source": [
    "<span style=\"color:red; font-size:14pt\"> Lösung:</span>"
   ]
  },
  {
   "cell_type": "code",
   "execution_count": 3,
   "metadata": {},
   "outputs": [
    {
     "name": "stdout",
     "output_type": "stream",
     "text": [
      "0.6941481805579461 0.69314718\n"
     ]
    }
   ],
   "source": [
    "#from numpy import log\n",
    "exact = 0.69314718#log(2)\n",
    "\n",
    "approx = 0\n",
    "n = 500\n",
    "for i in range(1,n):\n",
    "    approx += (-1)**(i+1) * 1. / i\n",
    "    \n",
    "print(approx, exact)"
   ]
  },
  {
   "cell_type": "markdown",
   "metadata": {},
   "source": [
    "## Sortieren I <span style=\"color:violet\">(geeignet für die Prüfung)</span>\n",
    "\n",
    "Lege eine Liste mit 10 beliebigen Fließkommazahlen $a_i$ an.\n",
    "\n",
    "\\begin{enumerate}\n",
    "\\item  Sortiere die $a_i$ der Groesse nach. Verwende dabei **keine** *Methode*.\n",
    "\\item  Sortiere die $a_i$ der Groesse ihrer Beträge nach (built-in function `abs`). Erweitere dafür den Code von 1.\n",
    "\\item  $\\max_{1\\le i\\le 20}{a_i}=?$\n",
    "\\item  $\\min_{1\\le i\\le 20}{a_i}=?$\n",
    "\\end{enumerate}\n",
    "\n",
    "Drucke alle Ergebnisse."
   ]
  },
  {
   "cell_type": "markdown",
   "metadata": {},
   "source": [
    "<span style=\"color:red; font-size:14pt\"> Lösung:</span>"
   ]
  },
  {
   "cell_type": "code",
   "execution_count": 4,
   "metadata": {
    "scrolled": true
   },
   "outputs": [
    {
     "name": "stdout",
     "output_type": "stream",
     "text": [
      "[-1, 0, 2, 2, 3, 10, 10, 12, 112]\n",
      "Das Maximum der Liste ist: 112\n",
      "Das Minimum der Liste ist: -1\n"
     ]
    }
   ],
   "source": [
    "X = [0, 3, 2, 12, 10, 2, 10 ,-1, 112]\n",
    "\n",
    "# 1+2 Sortierung der Groesse nach\n",
    "n = len(X)\n",
    "nach_betrag = False # switch for key absolute value\n",
    "klein_nach_groß = True  # switch for order\n",
    "\n",
    "def sortieren(X, nach_betrag, klein_nach_groß):\n",
    "    for j in range(n-1):\n",
    "        for i in range(n-j-1):\n",
    "            if nach_betrag:\n",
    "                xvor = abs(X[i])\n",
    "                xnach = abs(X[i+1]) \n",
    "            else:\n",
    "                xvor = X[i]\n",
    "                xnach = X[i+1]   \n",
    "                \n",
    "            if klein_nach_groß:      \n",
    "                if xvor > xnach:\n",
    "                    X[i+1] = xvor\n",
    "                    X[i] = xnach\n",
    "            else: \n",
    "                if xvor < xnach:\n",
    "                    X[i+1] = xvor\n",
    "                    X[i] = xnach\n",
    "    return X\n",
    "\n",
    "X_soted = sortieren(X, nach_betrag, klein_nach_groß)\n",
    "print(X_soted)\n",
    "\n",
    "# 3 max\n",
    "print(\"Das Maximum der Liste ist:\", X_soted[-1])\n",
    "# 4 min\n",
    "print(\"Das Minimum der Liste ist:\", X_soted[0])"
   ]
  },
  {
   "cell_type": "markdown",
   "metadata": {},
   "source": [
    "## Palindrom\n",
    "\n",
    "Lese einen beliebigen Text ein und schreibe ihn rückwärts aufs Papier:\n",
    "\n",
    "\\begin{enumerate}\n",
    "\\item Direkt mit einer Schleife.\n",
    "\\item Mithilfe der *slicing syntax*.\n",
    "\\end{enumerate}"
   ]
  },
  {
   "cell_type": "markdown",
   "metadata": {},
   "source": [
    "<span style=\"color:red; font-size:14pt\"> Lösung:</span>"
   ]
  },
  {
   "cell_type": "code",
   "execution_count": null,
   "metadata": {
    "scrolled": true
   },
   "outputs": [],
   "source": [
    "text = str(input(\"\")) \n",
    "#print(text)\n",
    "n = len(text)\n",
    "\n",
    "# 1a\n",
    "text_reverse = str()\n",
    "for i in range(1,n+1):\n",
    "    text_reverse += text[-i]\n",
    "print(\"1a: \", text_reverse)\n",
    "\n",
    "# 1b\n",
    "text_reverse = str()\n",
    "for i in range(n-1,-1,-1):\n",
    "    text_reverse += text[i]\n",
    "print(\"1b: \", text_reverse)\n",
    "\n",
    "# 2\n",
    "text_reverse = text[::-1]\n",
    "print(\"2:  \", text_reverse)\n"
   ]
  },
  {
   "cell_type": "markdown",
   "metadata": {},
   "source": [
    "## Heron-Formel $\\sqrt{a}$  <span style=\"color:violet\">(geeignet für die Prüfung)</span>\n",
    "\n",
    "Berechne für eine beliebige nichtnegative Zahl $a\\ge 0$ die Wurzel $\\sqrt{a}$ bis auf einen (relativen) Fehler von $10^{-10}$ nach der folgenden iterativen Methode:\n",
    "$$ x_{n+1}=\\frac{1}{2} \\left(\\frac{x_n^2+a}{x_n}\\right) \\nonumber.$$ \n",
    "Wähle verschiedene Anfangswerte $x_0$ und beobachte das Konvergenzverhalten, indem Du den Fehler in jeder Iteration ausgibst.\n",
    "\n",
    "\n",
    "*Hinweis:* Benutze die built-in Funktion `abs` und den Python-Wert `a ** 0.5` zur Fehlermessung. "
   ]
  },
  {
   "cell_type": "markdown",
   "metadata": {},
   "source": [
    "<span style=\"color:red; font-size:14pt\"> Lösung:</span>"
   ]
  },
  {
   "cell_type": "code",
   "execution_count": null,
   "metadata": {},
   "outputs": [],
   "source": [
    "a = 2.\n",
    "sqrt_a = a ** 0.5\n",
    "x = 0.001 # initial guess\n",
    "tol = 10e-10\n",
    "def vorschrift(x_n):\n",
    "    \"\"\"    \n",
    "    fuehrt die Iterationsvorschrift der Heron-Methode aus:\n",
    "            INPUT = x_alt\n",
    "            OUTPUT = x_neu  \n",
    "    \"\"\"\n",
    "    return 0.5 * ((x_n ** 2 + a) / x_n)\n",
    "\n",
    "while abs(x - sqrt_a) > tol:\n",
    "    print(\"Error =\", abs(x - sqrt_a))\n",
    "    x = vorschrift(x)\n",
    "\n",
    "print(\"Error =\", abs(x-sqrt_a), \"\\n\")\n",
    "print(\"sqrt(a) =\", x)\n",
    "\n",
    "#help(vorschrift)"
   ]
  },
  {
   "cell_type": "markdown",
   "metadata": {},
   "source": [
    "## Liste erzeugen\n",
    "\n",
    "Erzeuge eine Liste, die so viele Nullen enthält wie vom Benutzer vorgegeben (`input()`).\n"
   ]
  },
  {
   "cell_type": "markdown",
   "metadata": {},
   "source": [
    "<span style=\"color:red; font-size:14pt\"> Lösung:</span>"
   ]
  },
  {
   "cell_type": "code",
   "execution_count": null,
   "metadata": {},
   "outputs": [],
   "source": [
    "n = int(input(\"Laenge der Liste = \"))\n",
    "liste = [0]*(n')\n",
    "print(liste)"
   ]
  },
  {
   "cell_type": "markdown",
   "metadata": {},
   "source": [
    "## Fakultät <span style=\"color:violet\">(geeignet für die Prüfung)</span>\n",
    "\n",
    "Schreibe ein Programm, das solange eine ganze Zahl $n$ einliest bis $n$ positiv ist und dann den Wert der Fakultät $n!$ berechnet und ausgibt. Bei ungültiger Eingabe, weise den Benutzer darauf hin, dass nur positive ganze Zahlen erlaubt sind. Füge die Option hinzu das Spiel bei Eingabe von `0` zu beenden.\n",
    "\n",
    "*Hinweis:* `while`, `if`, `continue`, `for`, `True`,  `break`\n"
   ]
  },
  {
   "cell_type": "markdown",
   "metadata": {},
   "source": [
    "<span style=\"color:red; font-size:14pt\"> Lösung:</span>"
   ]
  },
  {
   "cell_type": "code",
   "execution_count": null,
   "metadata": {},
   "outputs": [],
   "source": [
    "while True:\n",
    "    zahl = int(input(\"Gib eine Zahl ein: \"))\n",
    "    if zahl < 0:\n",
    "        print(\"Negative Zahlen sind nicht erlaubt\")\n",
    "        continue\n",
    "    elif zahl == 0:\n",
    "        print(\"Das Programm wird beendet.\")\n",
    "        break\n",
    "    else:\n",
    "        result = 1\n",
    "        for i in range(2, zahl+1):\n",
    "            result *= i\n",
    "        print(str(zahl)+\"! = \"+str(result))"
   ]
  },
  {
   "cell_type": "markdown",
   "metadata": {
    "slideshow": {
     "slide_type": "fragment"
    }
   },
   "source": [
    "## Sequentielle Datentypen: Caesar-Verschlüsselung <span style=\"color:violet\">(geeignet für die Prüfung)</span>\n",
    "\n",
    "- **(1)** Schreibe zwei Funktionen `encrypt_letter(letter, key)` und `decrypt_letter(letter, key)`, die einen Buchstaben `letter` gemäß der Caesar-Verschlüsselung mit einem entsprechendem Schlüssel `key` verschlüsseln bzw. entschlüsseln.\n",
    "    - *Hinweis:* https://de.wikipedia.org/wiki/Caesar-Verschl%C3%BCsselung\n",
    "\n",
    "\n",
    "- **(2)** Nutze diese Funktionen, um einen ganzen Text zu verschlüsseln bzw. entschlüsseln. Definiere dabei zwei entsprechende Funktionen `encrypt_text(text, key)` und `decrypt_text(text, key)`.\n",
    "\n",
    "\n",
    "- **(3)** Lese eine externe Textdatei `klartext.txt` in Dein Python-Programm ein, verschlüssle den Textinhalt mit `encrypt_text(text, key)` und speichere den Geheimhext in einer weiteren Textdatei `geheimtext.txt` ab.\n",
    "    - *Hinweis:* Dafür gibt es die built-in function: `open()` (*siehe z.B.:* https://www.pythonforbeginners.com/files/reading-and-writing-files-in-python)\n",
    "\n"
   ]
  },
  {
   "cell_type": "markdown",
   "metadata": {},
   "source": [
    "<span style=\"color:red; font-size:14pt\"> Lösung:</span>"
   ]
  },
  {
   "cell_type": "code",
   "execution_count": null,
   "metadata": {
    "scrolled": false
   },
   "outputs": [],
   "source": [
    "alpha = []\n",
    "alpha += 'abcdefghijklmnopqrstuvwxyzABCDEFGHIJKLMNOPQRSTUVWXYZ0123456789.,?!;:äöü '\n",
    "length = alpha.__len__()\n",
    "uebertrag = 0\n",
    "\n",
    "def encrypt_letter(letter, key):\n",
    "    if alpha.index(letter) + key < length: \n",
    "        letter_encrypt_index = alpha.index(letter) + key\n",
    "        letter_encrypt = alpha[letter_encrypt_index]\n",
    "    else: \n",
    "        uebertrag = (alpha.index(letter) + key) % length\n",
    "        letter_encrypt = alpha[uebertrag]\n",
    "   \n",
    "    return  letter_encrypt\n",
    "    \n",
    "def decrypt_letter(letter, key):\n",
    "    if alpha.index(letter) - key > -1: \n",
    "        letter_decrypt_index = alpha.index(letter) - key\n",
    "        letter_decrypt = alpha[letter_decrypt_index]\n",
    "    else: \n",
    "        uebertrag = (length + (alpha.index(letter) - key)) % length\n",
    "        letter_decrypt = alpha[uebertrag]\n",
    "   \n",
    "    return  letter_decrypt\n",
    "    \n",
    "def encrypt_text(text, key):\n",
    "    length = text.__len__()\n",
    "    text_encrypt = []\n",
    "    for i in range(length):\n",
    "        text_encrypt += encrypt_letter(text[i], key)\n",
    "    text_encrypt = ''.join(text_encrypt)    \n",
    "    \n",
    "    return text_encrypt \n",
    "\n",
    "def decrypt_text(text, key):\n",
    "    length = text.__len__()\n",
    "    text_decrypt = []\n",
    "    for i in range(length):\n",
    "        text_decrypt += decrypt_letter(text[i], key)\n",
    "    text_decrypt = ''.join(text_decrypt)    \n",
    "    \n",
    "    return text_decrypt \n",
    "\n"
   ]
  },
  {
   "cell_type": "code",
   "execution_count": null,
   "metadata": {},
   "outputs": [],
   "source": [
    "text = 'Hallo Welt, mein Auftrag? Ganz einfach: Nachrichten verschlüsseln!!!!'\n",
    "a = encrypt_text(text,5)\n",
    "a"
   ]
  },
  {
   "cell_type": "code",
   "execution_count": null,
   "metadata": {},
   "outputs": [],
   "source": [
    "decrypt_text(a,5)"
   ]
  },
  {
   "cell_type": "code",
   "execution_count": null,
   "metadata": {},
   "outputs": [],
   "source": []
  },
  {
   "cell_type": "code",
   "execution_count": null,
   "metadata": {},
   "outputs": [],
   "source": []
  },
  {
   "cell_type": "markdown",
   "metadata": {},
   "source": [
    "<span style=\"color:green; font-size:14pt; font-style:italic; font-weight:bold\"> Hinweis: </span>\n",
    "Für die Aufgaben rund um die Sparse-Formate CSR und CSC dürfen alle Funktionen aus dem Skript `own_sparse.py` importiert werden (am besten in den selben Ordner legen, in dem die Jupyter Notebook (.ipynb) - Dateien liegen)\n",
    "\n",
    "\n",
    "```python\n",
    "import own_sparse\n",
    "```"
   ]
  },
  {
   "cell_type": "markdown",
   "metadata": {},
   "source": [
    "## Matrix-Vektor Produkt mit `list` <span style=\"color:violet\">(geeignet für die Prüfung)</span>\n",
    "\n",
    "Implementiere eine Funktion `matvec(A,x)`, die eine Matrix $A \\in \\mathbb{R}^{m\\times n}$ und einen Vektor $x \\in  \\mathbb{R}^{n}$ als Input erhält und das Matrix-Vektor Produkt $y = Ax \\in  \\mathbb{R}^{m}$ ausgibt. Erinnerung:\n",
    "$$y_i = \\sum_{j = 1}^n a_{ij}x_j$$\n",
    "für $i \\in \\{1, \\ldots, m\\}$.\n",
    "\n",
    "Verwende dabei **keine** Bibliotheken! Für Matrizen und Vektoren überlege Dir eine geeignete Implementierung über den Datentyp `list`."
   ]
  },
  {
   "cell_type": "markdown",
   "metadata": {},
   "source": [
    "<span style=\"font-weight:bold\"> Grundlage:</span>"
   ]
  },
  {
   "cell_type": "markdown",
   "metadata": {},
   "source": [
    "<span style=\"color:blue;font-style:italic\"> Hinweis: Das CSR Format als ein Lösungsansatz</span>"
   ]
  },
  {
   "cell_type": "markdown",
   "metadata": {},
   "source": [
    "<img align=\"center\" src=\"img/csr_matrix.svg\" alt=\"csr_format\" width=\"800\"/>\n",
    "\n",
    "*Bildquelle*: https://op2.github.io/PyOP2/linear_algebra.html"
   ]
  },
  {
   "cell_type": "markdown",
   "metadata": {},
   "source": [
    "\n",
    "Zum Speichern der Matrix $A\\in \\mathbb{R}^{m\\times n}$ verwenden wir das Compressed Sparse Row Format (**CSR** Format), siehe:\n",
    "\n",
    "https://en.wikipedia.org/wiki/Sparse_matrix#Compressed_sparse_row_(CSR,_CRS_or_Yale_format)\n",
    "\n",
    "Das macht Sinn bei hinreichend vielen Nichtnulleinträgen (`nnz`$:=$ Anzahl der nicht-Null Einträge):\n",
    "$$\\texttt{nnz} < \\frac{m (n − 1) − 1}{2}.\\nonumber$$ \n",
    "\n",
    "Wir speichern die Matrix mithilfe von 3 Listen:\n",
    "\n",
    "A $:=$ `[data, indices, indprt]`\n",
    "\n",
    " - `data` mit Länge `nnz` enthält Werte der Nichtnulleinträge, Reihenfolge der Werte ergibt sich durch \"von links nach rechts, von oben nach unten\" (also *'immer der Reihe nach...'*)\n",
    " - `indices` mit Länge `nnz` enhält die entsprechenden **Spalten**-Indizes dieser Werte\n",
    " - `indprt` (index pointer) beinhalt ein adjazentes Paar von Indizes pro Reihe\n",
    "     - Position/Index in `indprt` ist die Zeilennummer  \n",
    "     - Paar = [start:stop] slice für `indices`\n",
    "     - Differenz ist Anzahl Nichtnulleinträge in der jeweiligen Zeile\n",
    "     - Mithilfe der Pointer finden wir in `indices` die Spaltenindizes\n",
    "\n",
    "**Vorteile:**\n",
    " - effizientes *row slicing* (man kann Schnell die $i$-te Zeile berechnen)\n",
    " - daher: schnelles Matrix-Vektor Produkt\n",
    " \n",
    "**Beachte:**\n",
    " - um die (dicht besetzte) Matrix aufzustellen, muss man zusätzlich noch die Spalten-Dimension übergeben\n",
    " - da `indprt` immer mit `0` startet, könnte man dort die Dimension speichern "
   ]
  },
  {
   "cell_type": "markdown",
   "metadata": {},
   "source": [
    "<span style=\"color:blue;font-style:italic\"> Hilfestellung: csr_to_dense</span>\n",
    "\n",
    "In der folgenden Zelle könnt Ihr die entsprechenden arrays `col_dim, data, indices, indprt` setzen und schauen, welche Matrix ihr damit initialisiert habt. Damit könnt Ihr testen, ob Ihr Eure Matrix korrekt ins CSR-Format übersetzt habt."
   ]
  },
  {
   "cell_type": "code",
   "execution_count": null,
   "metadata": {
    "scrolled": true
   },
   "outputs": [],
   "source": [
    "import own_sparse\n",
    "\n",
    "# INPUT:\n",
    "\n",
    "col_dim = 4 # in csr format the column dimension needs to be given for dense reconstruction (not for mat-vec-prod!)\n",
    "data    = [1, 1, 2, 3, 1, 2, 3]\n",
    "indices = [0, 1, 2, 0, 1, 2, 3]\n",
    "indptr  = [0, 2, 2, 3, 7]\n",
    "\n",
    "#--------------------------------------------------------#\n",
    "A = [data, indices, indptr]\n",
    "\n",
    "A_dense = own_sparse.csr_to_dense(A, col_dim)\n",
    "# A ausgeben        \n",
    "print(\"\\nA = \"+str(A_dense[0]))\n",
    "for i in range(1, len(indptr) - 1):\n",
    "    print(\"    \"+str( A_dense[i]))"
   ]
  },
  {
   "cell_type": "markdown",
   "metadata": {},
   "source": [
    "<span style=\"color:blue;font-weight:bold\"> Test with scipy.sparse: </span> *sparse - to - dense*"
   ]
  },
  {
   "cell_type": "code",
   "execution_count": null,
   "metadata": {},
   "outputs": [],
   "source": [
    "import scipy.sparse as sparse\n",
    "csr = sparse.csr_matrix((data, indices, indptr))\n",
    "A = csr.todense()\n",
    "print(A)"
   ]
  },
  {
   "cell_type": "markdown",
   "metadata": {},
   "source": [
    "<span style=\"color:blue;font-weight:bold\"> Test with scipy.sparse: </span> *dense - to - sparse*"
   ]
  },
  {
   "cell_type": "code",
   "execution_count": null,
   "metadata": {},
   "outputs": [],
   "source": [
    "import scipy.sparse as sparse\n",
    "import numpy as np\n",
    "A = np.array([[1,0,1], \n",
    "              [0,2,1], \n",
    "              [0,3,7],\n",
    "              [4,3,0]])\n",
    "B = sparse.csr_matrix(A)\n",
    "print(A)\n",
    "nnz, data, indices, indptr = B.nnz, B.data, B.indices, B.indptr\n",
    "print(\"number of nonzero elements: nnz =\",nnz)\n",
    "print(\"nonzero elements: data =\",data)\n",
    "print(\"indices =\",indices)\n",
    "print(\"row index pointer: indptr=\",indptr)\n",
    "print(\"number of rows = \" + str(len(indptr) - 1) )"
   ]
  },
  {
   "cell_type": "markdown",
   "metadata": {},
   "source": [
    "<span style=\"color:red; font-size:14pt\"> Lösung:</span>"
   ]
  },
  {
   "cell_type": "code",
   "execution_count": null,
   "metadata": {
    "scrolled": false
   },
   "outputs": [],
   "source": [
    "import sparse_bib\n",
    "\n",
    "# Input A in CSR and vector as list\n",
    "col_dim = 4 # in csr format the column dimension needs to be given for dense reconstruction (not for mat-vec-prod!)\n",
    "\n",
    "data    = [1, 1, 2, 3, 1, 2, 3]\n",
    "indices = [0, 1, 2, 0, 1, 2, 3]\n",
    "indptr  = [0, 2, 2, 3, 7]\n",
    "\n",
    "A = [data, indices, indptr]\n",
    "sparse_bib.csr_to_dense(A, col_dim)\n",
    "\n",
    "x = [1, 1, 1, 1]\n",
    "print(\"\\nx = \"+str(x))\n",
    "\n",
    "# test if we save storage by using CSR over dense format\n",
    "if len(data) >= ( (len(indptr) - 1)  * (col_dim - 1) - 1 )/2:\n",
    "    print(\"\\nAttention: We do not save storage by using CSR over dense format!\")\n",
    "\n",
    "\n",
    "\n",
    "# implement the mat-vec product y = A*x\n",
    "def matvec(A, x):\n",
    "    \"\"\"\n",
    "    Input: Matrix A stored in CSR, i.e., a list of three lists\n",
    "                A = [data, indices, indptr]\n",
    "           Vector x stored as a list of n (= number of cols) numbers\n",
    "           \n",
    "    Output: Matrix-vector product y = A * x as a list\n",
    "    \"\"\"\n",
    "    data, indices, indptr = A[0], A[1], A[2]\n",
    "    row_dim = len(indptr) - 1\n",
    "    y = [0]*row_dim\n",
    "    for i in range(row_dim):\n",
    "        nonzero_values = data[indptr[i]:indptr[i+1]]\n",
    "        col_indices = indices[indptr[i]:indptr[i+1]]\n",
    "        #for j in col_indices: # Bemerkung: Hier müssen wir nur die nicht-Null Eintraege multiplizieren\n",
    "         #   y[i] += data[j]*x[j]\n",
    "        for j in range(len(col_indices)):\n",
    "            y[i] += nonzero_values[j] * x[col_indices[j]]            \n",
    "            \n",
    "    return y\n",
    "\n",
    "print(\"\\ny = A * x = \"+str(matvec(A, x)))\n",
    "#print(\"\\n\\nWe can print the multi-row comment within our function (the doc string = documentation string):\")\n",
    "#print(matvec.__doc__)"
   ]
  },
  {
   "cell_type": "markdown",
   "metadata": {
    "slideshow": {
     "slide_type": "fragment"
    }
   },
   "source": [
    "## Sparse Formate: CSC to CSR <span style=\"color:violet\">(geeignet für die Prüfung)</span>\n",
    "\n",
    "- **(1)** Initialisiere eine Matrix $A \\in \\mathbb{R}^{m\\times n}$ im Compressed Sparse Column (CSC) Format und schreibe eine Funktion `csc_to_csr(A)`, welche $A$ ins CSR Format überführt.\n",
    "  - *Siehe auch:*\n",
    "     - https://en.wikipedia.org/wiki/Sparse_matrix#Compressed_sparse_column_(CSC_or_CCS)\n",
    "     - https://docs.scipy.org/doc/scipy/reference/generated/scipy.sparse.csc_matrix.html\n",
    "\n",
    "\n",
    "- **(2)** $m=n$. Initialisiere eine Matrix $A \\in \\mathbb{R}^{n\\times n}$ im CSC Format. Verwende die entsprechenden drei Listen [data, indices, indptr] und baue mit diesen Listen eine Matrix $A'$ gemäß dem CSR Format zusammen (dabei kannst Du die Funktion `csr_to_dense()` aus `own_sparse.py` verwenden). In welchem Verhältnis stehen $A$ und $A'$?\n"
   ]
  },
  {
   "cell_type": "markdown",
   "metadata": {},
   "source": [
    "<span style=\"color:blue;font-style:italic\"> Hilfestellung: csc_to_dense</span>\n",
    "\n",
    "In der folgenden Zelle könnt Ihr die entsprechenden arrays `row_dim, data, indices, indprt` setzen und schauen, welche Matrix ihr damit initialisiert habt. Damit könnt Ihr testen, ob Ihr Eure Matrix korrekt ins CSC-Format übersetzt habt."
   ]
  },
  {
   "cell_type": "code",
   "execution_count": null,
   "metadata": {},
   "outputs": [],
   "source": [
    "import own_sparse\n",
    "# INPUT:\n",
    "\n",
    "row_dim = 4 # in csc format the row dimension needs to be given for reconstruction\n",
    "data    = [1, 1, 2, 3, 1, 2, 3]\n",
    "indices = [0, 1, 2, 0, 1, 2, 3]\n",
    "indptr  = [0, 2, 2, 3, 7]\n",
    "\n",
    "#--------------------------------------------------------#\n",
    "A_csc = [data, indices, indptr]\n",
    "\n",
    "\n",
    "A_dense = own_sparse.csc_to_dense(A_csc, row_dim)\n",
    "# A ausgeben  \n",
    "for j in range(row_dim):\n",
    "    print([A_dense[i][j] for i in range(len(indptr) - 1)])"
   ]
  },
  {
   "cell_type": "markdown",
   "metadata": {},
   "source": [
    "<span style=\"color:blue;font-style:italic\"> Test with scipy.sparse: </span> csc - to - csr"
   ]
  },
  {
   "cell_type": "code",
   "execution_count": null,
   "metadata": {},
   "outputs": [],
   "source": [
    "import scipy.sparse as sparse\n",
    "\n",
    "A_csr = sparse.csc_matrix(tuple(A_csc), (row_dim, (len(indptr) - 1))).tocsr()\n",
    "print(\"scipy A_csr:\", [list(A_csr.data), list(A_csr.indices), list(A_csr.indptr)])"
   ]
  },
  {
   "cell_type": "markdown",
   "metadata": {},
   "source": [
    "<span style=\"color:red; font-size:14pt\"> Lösung:</span>"
   ]
  },
  {
   "cell_type": "markdown",
   "metadata": {},
   "source": [
    "<span style=\"color:red; font-size:14pt\"> 1. </span>"
   ]
  },
  {
   "cell_type": "code",
   "execution_count": null,
   "metadata": {},
   "outputs": [],
   "source": [
    "# Input A in CSC\n",
    "data    = [1, 1, 2, 3]\n",
    "indices = [0, 0, 2, 3]\n",
    "indptr  = [0, 1, 2, 3, 4]\n",
    "\n",
    "col_dim = len(indptr) - 1\n",
    "row_dim = 4 # in csc format the row dimension needs to be given for reconstruction (not for mat-vec-prod!)\n",
    "dim = row_dim, col_dim\n",
    "\n",
    "A_csc = [data, indices, indptr]\n",
    "\n",
    "\n",
    "# a helper-function for csc_to_csr()\n",
    "def indices_of_occurences(liste, element):\n",
    "    \"\"\"get all indices where element appears in liste \"\"\"\n",
    "    result = []    \n",
    "    if element in liste:\n",
    "        num_of_occ = liste.count(element)\n",
    "        index_alt = 0\n",
    "        for i in range(num_of_occ):\n",
    "            index_neu = index_alt + liste[index_alt:].index(element)\n",
    "            result += [index_neu]\n",
    "            index_alt = index_neu+1\n",
    "        return result\n",
    "    else:\n",
    "        return result\n",
    "    \n",
    "#print(indices_of_occurences( [0,1,0,2,0], 0)   )\n",
    "\n",
    "# the solution\n",
    "def csc_to_csr(A_csc, dim):\n",
    "    row_dim, col_dim = dim\n",
    "    data_csc, indices_csc, indptr_csc = list(A_csc[0]), list(A_csc[1]), list(A_csc[2])\n",
    "    \n",
    "    data_csr = []\n",
    "    indices_csr = []\n",
    "    indptr_csr  = [0]\n",
    "        \n",
    "    for i in range(row_dim):\n",
    "        aux = indices_of_occurences(indices_csc, i)\n",
    "        \n",
    "        # build indptr_csr\n",
    "        indptr_csr += [indptr_csr[i] + len(aux)]\n",
    "        \n",
    "        # build data_csr: for each row index find its occurence in indices and extract respective data_csc\n",
    "        for j in aux:\n",
    "            data_csr += [data_csc[j]]\n",
    "            \n",
    "            # build indices_csr: find out their column index   \n",
    "            for k in range(col_dim):               \n",
    "                if indptr_csc[k] <= j < indptr_csc[k+1]:\n",
    "                    #print(i, j,k, indptr_csc[k])\n",
    "                    indices_csr += [k]\n",
    "    \n",
    "    return [data_csr, indices_csr, indptr_csr]\n",
    "\n",
    "\n",
    "A_csr = csc_to_csr(A_csc, (4,4))\n",
    "\n",
    "print(\"own A_csc:  \", A_csc)\n",
    "print(\"\\nown A_csr:  \", A_csr)\n",
    "print()"
   ]
  },
  {
   "cell_type": "markdown",
   "metadata": {},
   "source": [
    "<span style=\"color:red\"> 2. </span>"
   ]
  },
  {
   "cell_type": "code",
   "execution_count": null,
   "metadata": {},
   "outputs": [],
   "source": [
    "row_dim = 4 # = col_dim\n",
    "col_dim = row_dim\n",
    "data    = [1, 1, 2, 3, 1, 2, 3]\n",
    "indices = [0, 1, 2, 0, 1, 2, 3]\n",
    "indptr  = [0, 2, 2, 3, 7]\n",
    "A_csc = [data, indices, indptr]\n",
    "\n",
    "A_dense_csc = csc_to_dense(A_csc, row_dim)\n",
    "# A_dense_csc ausgeben        \n",
    "print(\"\\nA_dense_csc = \"+str(A_dense_csc[0]))\n",
    "for i in range(1, row_dim):\n",
    "    print(\"              \"+str( A_dense_csc[i]))\n",
    "    \n",
    "A_dense_csr = csr_to_dense(A_csc, row_dim)\n",
    "# A_dense_csc ausgeben \n",
    "print(\"\\nA_dense_csr =\", [A_dense_csr[i][0] for i in range(col_dim)])\n",
    "for j in range(1,row_dim):\n",
    "    print(\"              \"+str([A_dense_csr[i][j] for i in range(col_dim)]))"
   ]
  },
  {
   "cell_type": "markdown",
   "metadata": {},
   "source": [
    "## Vektoroperationen für Listen\n",
    "\n",
    "Implementiere für zwei Vektoren $x, y \\in \\mathbb{R}$ and ein Skalar $\\theta \\in \\mathbb{R}$, die als Listen bzw. Fließkommazahl übergeben werden, folgende mathematische Operationen:\n",
    "\n",
    "- $x + y$ als eine Python-Funktion `vec_sum(x,y)`,\n",
    "- $\\theta \\cdot x $ als eine Python-Funktion `vec_scaling(x, theta)`,\n",
    "- $x - y$ als eine Python-Funktion `vec_diff(x,y)`,\n",
    "- $\\|x\\|_2$ als eine Python-Funktion `vec_norm(x)`.\n",
    "\n",
    "Teste Deine Funktionen anhand mehrerer Beispiele."
   ]
  },
  {
   "cell_type": "markdown",
   "metadata": {
    "slideshow": {
     "slide_type": "fragment"
    }
   },
   "source": [
    "## Sparse Matrix-Matrix Produkt: CSC  <span style=\"color:violet\">(geeignet für die Prüfung)</span>\n",
    "\n",
    "- **(1)** Implementiere eine Funktion `matmat(A,B)`, die eine Matrix $A \\in \\mathbb{R}^{m\\times n}$ und eine Matrix $B \\in  \\mathbb{R}^{n\\times l}$ als Input erhält und das Matrix-Matrix Produkt $C = A\\cdot B \\in  \\mathbb{R}^{m \\times l}$ ausgibt. Gehe dabei davon aus, dass die Matrizen im Compressed Sparse Column (CSC) Format an die Funktion übergeben werden. Nutze **keine** Bibliotheken (außer `own_sparse`). Rechne zwei Beispiele durch. \n",
    "\n",
    "*Hinweis:* Matrix-Matrix Produkt ist spaltenweises Matrix-Vektor Produkt. Kombiniere von oben die Transformation `csc_to_csr` und das Matrix-Vektor Produkt `matvec` (welches für CSR Matrizen implementiert).\n",
    "\n",
    "- **(2)** Kombiniere die Funktionen `matmat(A,B)`, `csc_to_csr(A)` und `matvec(A,x)` von oben, um $$(A\\cdot B) \\cdot x $$ auszuwerten. Rechne zwei Beispiele durch. "
   ]
  },
  {
   "cell_type": "markdown",
   "metadata": {},
   "source": [
    "<span style=\"color:red; font-size:14pt\"> Lösung:</span>"
   ]
  },
  {
   "cell_type": "code",
   "execution_count": null,
   "metadata": {},
   "outputs": [],
   "source": [
    "import scipy.sparse as sparse\n",
    "import numpy as np\n",
    "A = np.array([[1,0,1], \n",
    "              [0,2,1], \n",
    "              [0,3,7],\n",
    "              [4,3,0],\n",
    "              [1,-2,-3]])\n",
    "B = np.array([[1,0,1,2,0, 0], \n",
    "              [0,2,1,3,0, 0],\n",
    "              [0,3,7,1,1, 0]])\n",
    "row_dim_A = A.shape[0]\n",
    "A = sparse.csc_matrix(A)\n",
    "B = sparse.csc_matrix(B)\n",
    "\n",
    "B_csc = [B.data, B.indices, B.indptr]\n",
    "A_csc = [A.data, A.indices, A.indptr]"
   ]
  },
  {
   "cell_type": "code",
   "execution_count": null,
   "metadata": {},
   "outputs": [],
   "source": [
    "import numpy as np\n",
    "import scipy.sparse as ss\n",
    "import sparse_bib\n",
    "\n",
    "def matmat(A, B, row_dim_A):\n",
    "    \"\"\"\n",
    "    INPUT: \n",
    "    A mxn and B nxl Matrices in csc format\n",
    "    col_dim of both (-> should be improved)\n",
    "    \n",
    "    we assume that the column dimension of both matrices is stored in the 0-th place in indptr\n",
    "    \n",
    "    OUTPUT:\n",
    "    C = A * B in csc format\n",
    "    \n",
    "    \"\"\"\n",
    "    \n",
    "    # matrix-matrix product (A*B) is computed by successively applying matrix-vector product (c_i = A*b_i)\n",
    "    # therefore we make use of matvec() and proceed as follows:\n",
    "    #     (1) transform A intro csr\n",
    "    #     (2) apply matvec(A, b_i) to generate columns of C = A*B\n",
    "       \n",
    "    col_dim_A = len(A[2])-1\n",
    "    row_dim_B = col_dim_A\n",
    "    col_dim_B = len(B[2])-1\n",
    "        \n",
    "    data_B, indices_B, indptr_B = B[0], B[1], B[2]\n",
    "    \n",
    "    # (1)\n",
    "    A_csr = sparse_bib.csc_to_csr(A, (row_dim_A, col_dim_A))\n",
    "\n",
    "    \n",
    "    # (2)\n",
    "    data_C = []\n",
    "    indices_C = []\n",
    "    indptr_C = [0]\n",
    "    \n",
    "    for i in range(col_dim_B):\n",
    "     \n",
    "        # extract i-th column of B\n",
    "        col_i_B = [0]*row_dim_B\n",
    "        nonzero_values = data_B[indptr_B[i]:indptr_B[i+1]]   \n",
    "        row_indices = indices_B[indptr_B[i]:indptr_B[i+1]]     \n",
    "        for j in range(len(row_indices)):\n",
    "            col_i_B[row_indices[j]] = nonzero_values[j]\n",
    "\n",
    "        # matrix-vector product c_i = A*b_i\n",
    "        col_i_C = sparse_bib.matvec(A_csr, col_i_B)\n",
    "        \n",
    "        # fill the data into the respective sparse csc-arrays of c\n",
    "        count = 0\n",
    "        for j in range(len(col_i_C)):\n",
    "            if col_i_C[j] != 0:  \n",
    "                data_C += [col_i_C[j]]\n",
    "                indices_C += [j]\n",
    "                count += 1\n",
    "        \n",
    "        indptr_C += [indptr_C[-1]+count]\n",
    "        \n",
    "    return [data_C, indices_C, indptr_C]\n",
    "\n",
    "C_csc = matmat(A_csc, B_csc, row_dim_A)\n",
    "\n",
    "sparse_bib.print_csc(C_csc, row_dim_A)\n"
   ]
  },
  {
   "cell_type": "code",
   "execution_count": null,
   "metadata": {},
   "outputs": [],
   "source": [
    "# Test against SciPy\n",
    "print(\"test against scipy\")\n",
    "import scipy.sparse as sparse\n",
    "print(A.dot(B).toarray())\n"
   ]
  },
  {
   "cell_type": "markdown",
   "metadata": {
    "slideshow": {
     "slide_type": "fragment"
    }
   },
   "source": [
    "## Iterative Löser (splitting methods) mit Sparse Formate <span style=\"color:violet\">(geeignet für die Prüfung)</span>"
   ]
  },
  {
   "cell_type": "markdown",
   "metadata": {
    "slideshow": {
     "slide_type": "fragment"
    }
   },
   "source": [
    "<span style=\"font-weight:bold\"> Grundlage: </span>\n",
    "\n",
    "Es seien $A \\in \\mathbb{R}^{n\\times n}$ und $b\\in \\mathbb{R}^{n}$ gegeben. Zum Lösen der linearen Gleichung $Ax=b$, verwenden wir eine präkonditionierte Form der Fixpunkt-Iteration:\n",
    "$$x_{k+1} = x_k -  \\theta N (Ax_k - b) . \\nonumber$$\n",
    "Hierbei ist $N \\in \\mathbb{R}^{n\\times n}$ der Präkonditionierer mit $N \\approx A^{-1}$ und $\\theta \\in \\mathbb{R}$ der sogenannte Relaxationsparameter. Bei entsprechender Wahl von $N$ und $\\theta$ erhalten wir die folgenden Verfahren:\n",
    " - (relaxiertes) Richardson-Verfahren für ($\\theta \\neq 1 $) $N = Id$,\n",
    " - (relaxiertes) Jacobi-Verfahren für ($\\theta \\neq 1 $) $N = D^{-1}$, wobei $D = diag(A)$.\n",
    " \n",
    "*Bemerkung*: Die durch die obige Iteration erzeugte Folge $(x_k)_k$ konvergiert gegen $x_* = A^{-1}b$, falls $\\rho(I- \\theta NA) < 1$."
   ]
  },
  {
   "cell_type": "markdown",
   "metadata": {
    "slideshow": {
     "slide_type": "fragment"
    }
   },
   "source": [
    "<span style=\"font-weight:bold\"> Aufgabe: </span>\n",
    "\n",
    "Implementiere einen Löser für das System $Ax=b$ aus dem obigen Setting.\n",
    "- Lasse den Anwender entscheiden, ob zum Lösen das Richardson- oder das Jacobi-Verfahren verwendet wird.\n",
    "- Übergib die Iterationslänge als optionalen Parameter $m$ und setze den default-Wert auf $50$. \n",
    "- Übergib den Relaxationsparameter als optionalen Parameter $\\theta$ und setze den default-Wert auf $0.1$. \n",
    "- Speichere die Residuen $e_k = Ax_k - b$ in einer Liste und gib diese aus. \n",
    "- Verwende als $x_0$ den Nullvektor.\n",
    "\n",
    "Für sämtliche Matrix-Vektor-Operationen verwende die Sparse-Formate aus den bisherigen Aufgaben und **keine** Bibliotheken. \n",
    "\n",
    "**Beispiel**: Wende Deinen Löser auf folgendes Beispiel an:\n",
    "$$A =  \\frac{1}{n^2} \\left(\\begin{array}{rrrrr}                                \n",
    " 2 & -1  & 0  & 0  & 0 \\\\                                               \n",
    " -1 &  2 & -1  & 0  & 0 \\\\                                               \n",
    " 0 &  -1 &  2 & -1  & 0  \\\\ \n",
    " 0 &  0 &  -1 &  2 & -1  \\\\ \n",
    " 0 &  0 &  0 & -1  &  2 \\\\\n",
    "\\end{array}\\right),~~~  b = \\left(\\begin{array}{rrrrr}                                \n",
    " 1 \\\\                                               \n",
    " 1 \\\\                                               \n",
    "1  \\\\ \n",
    " 1  \\\\ \n",
    " 1  \\\\ \n",
    "\\end{array}\\right), ~~~x_0 =  \\left(\\begin{array}{rrrrr}                                \n",
    "0 \\\\                                               \n",
    " 0 \\\\                                               \n",
    "0  \\\\ \n",
    "0  \\\\ \n",
    "0  \\\\ \n",
    "\\end{array}\\right).$$\n",
    "\n",
    "\n",
    "**Variation**: Anstatt der Iterationslänge $m$, lasse den Anwender eine Toleranz $\\text{tol}>0$ als optionalen Parameter übergeben (setze default auf $10^{-6}$) und stoppe die Iteration sobald $|e_k| < \\text{tol}$ (verwende `vec_norm`).\n",
    "\n",
    "*Hinweis:* Folgende Funktionen sind hilfreich (und teilweise in `own_sparse.py` zu finden):\n",
    "- `inv_diag_quad_csr` (berechnet den Jacobi Präkonditionierer $D^{-1}$ im CSR Format einer quadratischen Matrix im CSR Format; in `own_sparse.py`)\n",
    "- `vec_scaling`, `vec_diff`, `vec_norm` (Vektor-Operationen für Typ `list`; siehe obige Aufgabe)\n",
    "- `matvec`  (Matrix-Vektor Produkt für CSR Matrizen; siehe obige Aufgabe)\n",
    "- `print_csr` (Druckt eine CSR Matrix als dichte Matrix; in `own_sparse.py`)\n"
   ]
  },
  {
   "cell_type": "markdown",
   "metadata": {},
   "source": [
    "<span style=\"color:red; font-size:14pt\"> Lösung:</span>"
   ]
  },
  {
   "cell_type": "code",
   "execution_count": null,
   "metadata": {},
   "outputs": [],
   "source": [
    "import sparse_bib\n",
    "n = 5\n",
    "m = 400\n",
    "theta = 1\n",
    "col_dim = 5\n",
    "A_data = [2, -1, -1, 2, -1, -1, 2, -1, -1, 2, -1, -1, 2]\n",
    "A_data = [x * 1./n**2 for x in A_data]\n",
    "A_indices = [0,1, 0, 1, 2, 1, 2, 3, 2, 3, 4, 3, 4]\n",
    "A_indptr = [0,2,5, 8, 11, 13]\n",
    "A_csr = [A_data, A_indices, A_indptr]\n",
    "\n",
    "iD_csr = sparse_bib.inv_diag_quad_csr(A_csr, col_dim)\n",
    "\n",
    "\n",
    "print(\"System Matrix A\")\n",
    "sparse_bib.print_csr(A_csr, 5)\n",
    "print(\"\\nPreconditioner\")\n",
    "sparse_bib.print_csr(iD_csr, col_dim)\n",
    "\n",
    "b = 5*[1]\n",
    "x = 5*[0]\n",
    "\n",
    "for i in range(m):   \n",
    "    # Richardson\n",
    "    # step = sparse_bib.vec_scaling(sparse_bib.vec_diff(sparse_bib.matvec(A_csr, x), b), theta )\n",
    "    # x = sparse_bib.vec_diff(x, step)\n",
    "    \n",
    "    # Jacobian\n",
    "    preconditioned = sparse_bib.matvec(iD_csr,sparse_bib.vec_diff(sparse_bib.matvec(A_csr, x), b))\n",
    "    relaxed = sparse_bib.vec_scaling(preconditioned , theta )\n",
    "    x = sparse_bib.vec_diff(x, relaxed)    \n",
    "\n",
    "print(\"\\nApproximate solution\")\n",
    "print()\n",
    "print(\"Error = \", sparse_bib.vec_norm( sparse_bib.vec_diff(sparse_bib.matvec(A_csr,x), b)))\n",
    "#print(b)\n",
    "    "
   ]
  },
  {
   "cell_type": "markdown",
   "metadata": {},
   "source": [
    "<span style=\"color:green; font-size:14pt; font-style:italic; font-weight:bold\"> Hinweis: Ab hier können numpy, scipy und matplotlib verwendet werden</span>"
   ]
  },
  {
   "cell_type": "markdown",
   "metadata": {},
   "source": [
    "## Numpy "
   ]
  },
  {
   "cell_type": "markdown",
   "metadata": {},
   "source": [
    "- Experimentiere mit den numpy Funktionen `arange`, `linspace`, `ones`, `zeros`, `eye`, `diag`, `tile`, `repeat` and `reshape`.\n",
    "\n",
    "- Erzeuge folgende Matrizen mit numpy:\n",
    "     - Einheitsmatrix \n",
    "     - Nullmatrix\n",
    "     - Diagonalmatrix\n",
    "     - Beispielmatrix $$\n",
    "    \\left(\\begin{array}{rrrr}                                \n",
    "    1 &  1& 1 & 1\\\\                                               \n",
    "    1 &  1& 1 & 1\\\\                                              \n",
    "    1 &  1 &  1 & 2   \\\\ \n",
    "    1 &  6 &  1 & 1\n",
    "    \\end{array}\\right) \\nonumber\n",
    "    $$\n",
    "     - Beispielmatrix\n",
    "    $$\n",
    "    \\left(\\begin{array}{rrrrr}                                \n",
    "    0 &  0& 0 & 0&0\\\\                                               \n",
    "    2 &  0& 0 & 0&0\\\\                                              \n",
    "    0 &  3& 0 & 0&0\\\\ \n",
    "    0 &  0& 4 & 0&0\\\\ \n",
    "    0 &  0& 0 & 5&0\\\\ \n",
    "    0 &  0& 0 & 0&6\n",
    "    \\end{array}\\right) \\nonumber\n",
    "    $$\n",
    "     - Beispielmatrix \n",
    "    $$\n",
    "    \\left(\\begin{array}{rrrrrr}                                \n",
    "    4 &  3& 4 &3&4&3\\\\                                               \n",
    "    2 &  1& 2 & 1&2&1\\\\                                              \n",
    "    4 &  3& 4 & 3&4&3\\\\   \n",
    "    2 &  1& 2 & 1&2&1\n",
    "    \\end{array}\\right) \\nonumber\n",
    "    $$\n",
    "     - Beispielmatrix \n",
    "    $$\n",
    "    \\left(\\begin{array}{rrr}                                \n",
    "    1  &6 &11\\\\                                               \n",
    "    2  &7 &12\\\\                                              \n",
    "    3  &8 &13\\\\   \n",
    "    4  &9 &14\\\\\n",
    "    5& 10 &15\n",
    "    \\end{array}\\right) \\nonumber\n",
    "    $$\n",
    "    \n",
    "- Wende die Funktionen `len()` und `numpy.shape()` auf diese Arrays an. Wie stehen die Werte im Verhältnis? Wie verhalten sie sich zum Attribut `ndim`?\n"
   ]
  },
  {
   "cell_type": "markdown",
   "metadata": {},
   "source": [
    "<span style=\"color:red; font-size:14pt\"> Lösung:</span>"
   ]
  },
  {
   "cell_type": "markdown",
   "metadata": {
    "slideshow": {
     "slide_type": "fragment"
    }
   },
   "source": [
    "## Iterative Löser (splitting methods) mit Numpy <span style=\"color:violet\">(geeignet für die Prüfung)</span>"
   ]
  },
  {
   "cell_type": "markdown",
   "metadata": {
    "slideshow": {
     "slide_type": "fragment"
    }
   },
   "source": [
    "<span style=\"font-weight:bold\"> Grundlage: </span>\n",
    "\n",
    "Es seien $A \\in \\mathbb{R}^{n\\times n}$ und $b\\in \\mathbb{R}^{n}$ gegeben. Zum Lösen der linearen Gleichung $Ax=b$, verwenden wir eine präkonditionierte Form der Fixpunkt-Iteration:\n",
    "$$x_{k+1} = x_k -  \\theta N (Ax_k - b) . \\nonumber$$\n",
    "Hierbei ist $N \\in \\mathbb{R}^{n\\times n}$ der Präkonditionierer mit $N \\approx A^{-1}$ und $\\theta \\in \\mathbb{R}$ der sogenannte Relaxationsparameter. Bei entsprechender Wahl von $N$ und $\\theta$ erhalten wir die folgenden Verfahren:\n",
    " - (relaxiertes) Richardson-Verfahren für ($\\theta \\neq 1 $) $N = Id$,\n",
    " - (relaxiertes) Jacobi-Verfahren für ($\\theta \\neq 1 $) $N = D^{-1}$, wobei $D = diag(A)$.\n",
    " \n",
    "*Nebenbemerkung*: Die durch die obige Iteration erzeugte Folge $(x_k)_k$ konvergiert gegen $x_* = A^{-1}b$, falls $\\rho(I- \\theta NA) < 1$."
   ]
  },
  {
   "cell_type": "markdown",
   "metadata": {
    "slideshow": {
     "slide_type": "fragment"
    }
   },
   "source": [
    "<span style=\"font-weight:bold\"> Aufgabe: </span>\n",
    "\n",
    "Implementiere einen Löser für das System $Ax=b$ aus dem obigen Setting. \n",
    "- Lasse den Anwender entscheiden, ob zum Lösen das Richardson- oder das Jacobi-Verfahren verwendet wird.\n",
    "- Übergib die Iterationslänge als optionalen Parameter $m$ und setze den default-Wert auf $50$. \n",
    "- Übergib den Relaxationsparameter als optionalen Parameter $\\theta$ und setze den default-Wert auf $0.1$. \n",
    "- Speichere die Residuen $e_k = Ax_k - b$ in einem geeigneten Format und plotte den Verlauf. \n",
    "- Verwende als $x_0$ den Nullvektor.\n",
    "\n",
    "\n",
    "**Beispiel**: Wende Deinen Löser auf folgendes Beispiel an:\n",
    "$$A =  \\frac{1}{n^2} \\left(\\begin{array}{rrrrr}                                \n",
    " 2 & -1  & 0  & 0  & 0 \\\\                                               \n",
    " -1 &  2 & -1  & 0  & 0 \\\\                                               \n",
    " 0 &  -1 &  2 & -1  & 0  \\\\ \n",
    " 0 &  0 &  -1 &  2 & -1  \\\\ \n",
    " 0 &  0 &  0 & -1  &  2 \\\\\n",
    "\\end{array}\\right),~~~  b = \\left(\\begin{array}{rrrrr}                                \n",
    " 1 \\\\                                               \n",
    " 1 \\\\                                               \n",
    "1  \\\\ \n",
    " 1  \\\\ \n",
    " 1  \\\\ \n",
    "\\end{array}\\right), ~~~x_0 =  \\left(\\begin{array}{rrrrr}                                \n",
    "0 \\\\                                               \n",
    " 0 \\\\                                               \n",
    "0  \\\\ \n",
    "0  \\\\ \n",
    "0  \\\\ \n",
    "\\end{array}\\right).$$\n",
    "\n",
    "**Variation**: Anstatt der Iterationslänge $N$, lasse den Anwender eine Toleranz $\\text{tol}>0$ als optionalen Parameter übergeben (setze default auf $10^{-6}$) und stoppe die Iteration sobald $|e_k| < \\text{tol}$ (verwende `np.linalg.norm`)."
   ]
  },
  {
   "cell_type": "markdown",
   "metadata": {},
   "source": [
    "<span style=\"color:red; font-size:14pt\"> Lösung:</span>"
   ]
  },
  {
   "cell_type": "markdown",
   "metadata": {},
   "source": [
    "## Polynome <span style=\"color:violet\">(geeignet für die Prüfung)</span>\n",
    "\n",
    "Implementiere eine Funktion `f(x, coeff)`, die eine reelle Zahl `x` und eine Liste `coeff` mit Koeffizienten $a_i$ entgegen nimmt, um ein Polynom\n",
    "$$f\\colon \\mathbb{R} \\to \\mathbb{R}, ~~~f(x) := \\sum_{i=0}^n a_i x^i \\nonumber$$\n",
    "beliebigen Grades $n\\geq 0$ zu berechnen.\n",
    "\n",
    "Zudem:\n",
    "- Implementiere die Ableitung $f'$ des Polynoms als eine Funktion `fprime` (*Hinweis:* Verwende `f` mit abgeänderten `coeff`)\n",
    "- Finde eine geeignete SciPy-Routine mithilfe derer Du die Nullstellen Deines Polynoms berechnen kannst.\n",
    "- Visualisiere Deine Ergebnisse geeignet mit `matplotlib`. Plotte dafür $f$, $f'$ und die Nullstelle(n).\n"
   ]
  },
  {
   "cell_type": "markdown",
   "metadata": {},
   "source": [
    "<span style=\"color:red; font-size:14pt\"> Lösung:</span>"
   ]
  },
  {
   "cell_type": "code",
   "execution_count": null,
   "metadata": {},
   "outputs": [],
   "source": [
    "import matplotlib.pyplot as plt\n",
    "from scipy.optimize import root_scalar"
   ]
  },
  {
   "cell_type": "code",
   "execution_count": null,
   "metadata": {},
   "outputs": [],
   "source": [
    "def f(x, coeff):\n",
    "    pot = 0\n",
    "    res = 0\n",
    "    for a in coeff:\n",
    "        res += a * x ** pot\n",
    "        pot +=1\n",
    "    return res\n",
    "def fprime(x, coeff):\n",
    "    coeff_prime = [coeff[1:][i]*(i+1) for i in range(len(coeff)-1)]\n",
    "    return f(x, coeff_prime)"
   ]
  },
  {
   "cell_type": "code",
   "execution_count": null,
   "metadata": {},
   "outputs": [],
   "source": [
    "\n",
    "coeff = [0,2,2,10, 3]\n",
    "\n",
    "#-------\n",
    "coeff_prime = [coeff[1:][i]*(i+1) for i in range(len(coeff)-1)]\n",
    "x_0 = 0\n",
    "def f_aux(x):\n",
    "    return f(x, coeff)\n",
    "def fprime_aux(x):\n",
    "    return fprime(x, coeff)\n",
    "root = root_scalar(f_aux,  x0=0.2, fprime = fprime_aux,method='newton').root\n",
    "root"
   ]
  },
  {
   "cell_type": "code",
   "execution_count": null,
   "metadata": {},
   "outputs": [],
   "source": [
    "X = np.linspace(-2,2,400)\n",
    "plt.plot(X, f_aux(X), 'b')\n",
    "plt.plot(X, fprime_aux(X), 'r--')\n",
    "plt.plot(root, 0, 'rD')"
   ]
  },
  {
   "cell_type": "markdown",
   "metadata": {},
   "source": [
    "<span style=\"color:red; font-size:14pt\"> Lösung:</span>"
   ]
  },
  {
   "cell_type": "code",
   "execution_count": null,
   "metadata": {},
   "outputs": [],
   "source": []
  },
  {
   "cell_type": "markdown",
   "metadata": {},
   "source": [
    "## Conway's Game of Life <span style=\"color:violet\">(geeignet für die Prüfung)</span>\n",
    "\n",
    "Schreibe ein Programm, das *Conway's Game of Life*  nachvollzieht. In einer *Welt* mit $n \\times m$ Feldern, die den *Wert*\n",
    "`lebt`  oder `unbelebt` haben koennen, entwickelt sich die \n",
    "*Population* -- ausgehend von einer Startsituation --\n",
    "von Generation zu Generation nach folgenden drei Regeln:\n",
    "\\begin{itemize}\n",
    "\\item **Ueberleben:** Ein Lebewesen ueberlebt bis zur naechsten Generation, wenn zwei oder\n",
    "drei der benachbarten Felder besetzt sind.\n",
    "\\item **Tod:** Ein Lebewesen stirbt, wenn entweder mehr als drei oder\n",
    "weniger als zwei Nachbarfelder besetzt sind.\n",
    "\\item **Geburt:** Ein Lebewesen entsteht, wenn genau drei Nachbarfelder besetzt sind.\n",
    "\\end{itemize}\n",
    "Zwei interessante Startpopulationen: \n",
    "\n",
    "Für ein festes Paar `i,j` setze:\n",
    "\\begin{itemize}\n",
    "\\item[1] *Blinker:* `Welt=0`, `Welt[i:i+3,j]=1 `\n",
    "\\item[2] *Segler:* `Welt=0`, `Welt[i,j+1:j+5]=1`, `Welt[i+1:i+3,j+4]=1`, `Welt[i+1,j]=1`, `Welt[i+3, j]=1`, `Welt[i+3, j+3]=1` \t\n",
    "\\end{itemize}\n",
    "\n",
    "*Siehe auch:* https://de.wikipedia.org/wiki/Conways_Spiel_des_Lebens"
   ]
  },
  {
   "cell_type": "markdown",
   "metadata": {},
   "source": [
    "<span style=\"color:red; font-size:14pt\"> Lösung:</span>"
   ]
  },
  {
   "cell_type": "code",
   "execution_count": null,
   "metadata": {
    "scrolled": true
   },
   "outputs": [],
   "source": [
    "import numpy as np\n",
    "import matplotlib.pyplot as plt\n",
    "segler = 1\n",
    "m = 10\n",
    "n = 100\n",
    "years = 50\n",
    "welt = np.zeros((m,n))\n",
    "i,j = 2, 2\n",
    "\n",
    "# Blinker\n",
    "\n",
    "#welt[i:i+3,j] = np.ones(3)\n",
    "#plt.imshow(welt)\n",
    "#print(welt)\n",
    "    \n",
    "# Segler\n",
    "if segler:\n",
    "\n",
    "    welt[i, j+1:j+5] = np.ones(4)\n",
    "    welt[i+1:i+3, j+4] = np.ones(2)\n",
    "    welt[i+1, j] = np.ones(1)\n",
    "    welt[i+3, j] = np.ones(1)\n",
    "    welt[i+3, j+3] = np.ones(1)\n",
    "    plt.figure(\"Segler\")\n",
    "    plt.imshow(welt)\n",
    "\n",
    "\n",
    "\n",
    "WELT = [welt]\n",
    "\n",
    "plt.figure(\"Run\")\n",
    "\n",
    "for k in range(years):\n",
    "    \n",
    "    welt_neu = welt.copy()\n",
    "    \n",
    "    for i in range(1,m-1):\n",
    "        for j in range(1,n-1):\n",
    "            neighbors_count = list(welt[i-1:i+2, j-1:j+2].reshape(9)).count(1)            \n",
    "            # zelle = 0\n",
    "            if welt[i,j] == 0:\n",
    "            \n",
    "                if neighbors_count==3:\n",
    "                    # birth\n",
    "                    welt_neu[i,j] = 1\n",
    "                \n",
    "            # zelle = 1\n",
    "            # Lebewesen i,j lebt\n",
    "            else:\n",
    "                if neighbors_count-1 < 2 or neighbors_count-1 > 3:\n",
    "                    # death through (lonelyness or overpopulation)    \n",
    "                    welt_neu[i,j] = 0\n",
    "       \n",
    "    welt = welt_neu  \n",
    "    WELT += [welt]\n",
    "    #\n",
    "    plt.ion()\n",
    "    plt.imshow(welt)\n",
    "    plt.pause(0.01)\n",
    "plt.show()\n",
    "  \n",
    "    \n",
    "    \n",
    "    \n",
    "# AS VIDEO\n",
    "frames = [] # for storing the generated images\n",
    "# = plt.figure()\n",
    "for i in range(len(WELT)):\n",
    "    frames.append([plt.imshow(WELT[i],animated=True)])\n",
    "\n",
    "#ani = animation.ArtistAnimation(fig, frames, interval=50, blit=True, repeat_delay=1)\n",
    "#plt.show()\n"
   ]
  },
  {
   "cell_type": "markdown",
   "metadata": {},
   "source": [
    "## Prime number sieve <span style=\"color:violet\">(geeignet für die Prüfung)</span>"
   ]
  },
  {
   "cell_type": "markdown",
   "metadata": {},
   "source": [
    "Berechne die Primzahlen zwischen $1$ und $n\\in\\mathbb{N}$ mit dem Sieb des Eratosthenes.\n",
    "\n",
    "*Hinweis:* https://de.wikipedia.org/wiki/Sieb_des_Eratosthenes"
   ]
  },
  {
   "cell_type": "markdown",
   "metadata": {},
   "source": [
    "<span style=\"color:red; font-size:14pt\"> Lösung:</span>"
   ]
  },
  {
   "cell_type": "code",
   "execution_count": null,
   "metadata": {},
   "outputs": [],
   "source": [
    "import numpy as np"
   ]
  },
  {
   "cell_type": "markdown",
   "metadata": {},
   "source": [
    "Compute prime numbers in 0–99, with a sieve\n",
    "\n",
    "    Construct a shape (100,) boolean array is_prime, filled with True in the beginning:\n"
   ]
  },
  {
   "cell_type": "code",
   "execution_count": null,
   "metadata": {},
   "outputs": [],
   "source": [
    "is_prime = np.ones((100,), dtype=bool)"
   ]
  },
  {
   "cell_type": "markdown",
   "metadata": {},
   "source": [
    "Cross out 0 and 1 which are not primes:"
   ]
  },
  {
   "cell_type": "code",
   "execution_count": null,
   "metadata": {},
   "outputs": [],
   "source": [
    "is_prime[:2] = 0"
   ]
  },
  {
   "cell_type": "markdown",
   "metadata": {},
   "source": [
    "For each integer j starting from 2, cross out its higher multiples:"
   ]
  },
  {
   "cell_type": "code",
   "execution_count": null,
   "metadata": {},
   "outputs": [],
   "source": [
    "N_max = int(np.sqrt(len(is_prime) - 1))\n",
    "for j in range(2, N_max + 1):\n",
    "    is_prime[2*j::j] = False"
   ]
  },
  {
   "cell_type": "markdown",
   "metadata": {},
   "source": [
    "Skim through help(np.nonzero), and print the prime numbers"
   ]
  },
  {
   "cell_type": "markdown",
   "metadata": {},
   "source": [
    "    Use the optimization suggested in the sieve of Eratosthenes:\n",
    "\n",
    "        Skip j which are already known to not be primes\n",
    "        The first number to cross out is j^2\n",
    "\n",
    "   \n"
   ]
  },
  {
   "cell_type": "markdown",
   "metadata": {},
   "source": [
    "Sieb von Atkin?"
   ]
  },
  {
   "cell_type": "code",
   "execution_count": null,
   "metadata": {
    "scrolled": true
   },
   "outputs": [],
   "source": [
    "is_prime"
   ]
  },
  {
   "cell_type": "code",
   "execution_count": null,
   "metadata": {},
   "outputs": [],
   "source": []
  },
  {
   "cell_type": "code",
   "execution_count": null,
   "metadata": {},
   "outputs": [],
   "source": []
  },
  {
   "cell_type": "code",
   "execution_count": null,
   "metadata": {},
   "outputs": [],
   "source": []
  },
  {
   "cell_type": "code",
   "execution_count": null,
   "metadata": {},
   "outputs": [],
   "source": []
  },
  {
   "cell_type": "code",
   "execution_count": null,
   "metadata": {},
   "outputs": [],
   "source": []
  },
  {
   "cell_type": "code",
   "execution_count": null,
   "metadata": {},
   "outputs": [],
   "source": []
  },
  {
   "cell_type": "code",
   "execution_count": null,
   "metadata": {},
   "outputs": [],
   "source": [
    "# das nächste Mal:"
   ]
  },
  {
   "cell_type": "code",
   "execution_count": null,
   "metadata": {},
   "outputs": [],
   "source": []
  },
  {
   "cell_type": "markdown",
   "metadata": {},
   "source": [
    "<span style=\"color:red\"> Lösung</span>"
   ]
  },
  {
   "cell_type": "markdown",
   "metadata": {},
   "source": [
    "<span style=\"color:red\"> Lösung</span>"
   ]
  },
  {
   "cell_type": "markdown",
   "metadata": {},
   "source": [
    "## Skizzieren\n",
    "\n",
    "Gegeben sei eine reelle Funktion $f(x)$ einer Ver\"anderlichen.\n",
    "Die Ver\"anderliche variiere in einem Intervall $x \\in [a,b]$.\n",
    "\n",
    "\\begin{enumerate}\n",
    "\\item\n",
    "Schreiben Sie ein Programm \\texttt{GRAPH(f,a,b)}\n",
    ", das eine 40x80-Matrix (\\texttt{CHARACTER*1)} so mit Leerzeichen \n",
    "und Sternen f\"ullt, da\"s beim Ausdrucken ein\n",
    "(ma\"sstabverzerrtes, angen\"ahertes) Schaubild des Verlaufs von $f$ \n",
    "\"uber $[a,b]$ entsteht.\n",
    "\n",
    "TIP: Berechnen Sie $f$ in $a$ und $b$ und $38$ \"aquidistanten \n",
    "Zwischenstellen $a , z_1 , \\ldots , z_{38} , b$ und bestimmen \n",
    "Sie anschlie\"send einen\n",
    "Verzerrungsfaktor $v$, so da\"s \n",
    "$$v * ( max ( f(a),...,f(z_j),...f(b) ) - min ( f(a),...,f(z_j),...f(b)) ) = 40$$\n",
    " ist.\n",
    "\\item\n",
    "Vergleichen Sie die Ausgabe mit einem von \\texttt{gnuplot} erzeugten Bild."
   ]
  },
  {
   "cell_type": "markdown",
   "metadata": {},
   "source": [
    "<span style=\"color:red\"> Lösung</span>"
   ]
  },
  {
   "cell_type": "markdown",
   "metadata": {},
   "source": [
    "## Einfache Modularisierung <span style=\"color:violet\">(geeignet für die Prüfung)</span>"
   ]
  },
  {
   "cell_type": "code",
   "execution_count": null,
   "metadata": {},
   "outputs": [],
   "source": [
    "Modularisiere obige Funktionen\n",
    "\n",
    "main.py\n",
    "\n",
    "sparse.py\n",
    "- format\n",
    "- operations\n",
    "\n",
    "iterative_solver.py"
   ]
  },
  {
   "cell_type": "markdown",
   "metadata": {},
   "source": [
    "## Mandelbrot"
   ]
  },
  {
   "cell_type": "markdown",
   "metadata": {},
   "source": [
    "Write a script that computes the Mandelbrot fractal. The Mandelbrot iteration:"
   ]
  },
  {
   "cell_type": "code",
   "execution_count": null,
   "metadata": {},
   "outputs": [],
   "source": [
    "\n",
    "\n",
    "N_max = 50\n",
    "some_threshold = 50\n",
    "\n",
    "c = x + 1j*y\n",
    "\n",
    "z = 0\n",
    "for j in range(N_max):\n",
    "    z = z**2 + c"
   ]
  },
  {
   "cell_type": "markdown",
   "metadata": {},
   "source": [
    "\n",
    "\n",
    "Point (x, y) belongs to the Mandelbrot set if |z| < some_threshold.\n",
    "\n",
    "Do this computation by:\n",
    "\n",
    "    Construct a grid of c = x + 1j*y values in range [-2, 1] x [-1.5, 1.5]\n",
    "    Do the iteration\n",
    "    Form the 2-d boolean mask indicating which points are in the set\n",
    "    Save the result to an image with:\n"
   ]
  },
  {
   "cell_type": "code",
   "execution_count": null,
   "metadata": {},
   "outputs": [],
   "source": [
    "import matplotlib.pyplot as plt\n",
    "\n",
    "plt.imshow(mask.T, extent=[-2, 1, -1.5, 1.5]) \n",
    "\n",
    "\n",
    "plt.gray()\n",
    "\n",
    "plt.savefig('mandelbrot.png')"
   ]
  },
  {
   "cell_type": "code",
   "execution_count": null,
   "metadata": {},
   "outputs": [],
   "source": [
    "\"\"\"\n",
    "Compute the Mandelbrot fractal\n",
    "\"\"\"\n",
    "import numpy as np\n",
    "import matplotlib.pyplot as plt\n",
    "from numpy import newaxis\n",
    "\n",
    "def compute_mandelbrot(N_max, some_threshold, nx, ny):\n",
    "    # A grid of c-values\n",
    "    x = np.linspace(-2, 1, nx)\n",
    "    y = np.linspace(-1.5, 1.5, ny)\n",
    "\n",
    "    c = x[:,newaxis] + 1j*y[newaxis,:]\n",
    "\n",
    "    # Mandelbrot iteration\n",
    "\n",
    "    z = c\n",
    "    for j in range(N_max):\n",
    "        z = z**2 + c\n",
    "\n",
    "    mandelbrot_set = (abs(z) < some_threshold)\n",
    "\n",
    "    return mandelbrot_set\n",
    "\n",
    "# Save\n",
    "\n",
    "mandelbrot_set = compute_mandelbrot(50, 50., 601, 401)\n",
    "\n",
    "plt.imshow(mandelbrot_set.T, extent=[-2, 1, -1.5, 1.5])\n",
    "plt.gray()\n",
    "plt.savefig('mandelbrot.png')"
   ]
  },
  {
   "cell_type": "markdown",
   "metadata": {},
   "source": [
    "## Markovkette"
   ]
  },
  {
   "cell_type": "markdown",
   "metadata": {},
   "source": [
    "Markov chain transition matrix P, and probability distribution on the states p:\n",
    "\n",
    "    0 <= P[i,j] <= 1: probability to go from state i to state j\n",
    "    Transition rule: p_{new} = P^T p_{old}\n",
    "    all(sum(P, axis=1) == 1), p.sum() == 1: normalization\n",
    "\n",
    "Write a script that works with 5 states, and:\n",
    "\n",
    "    Constructs a random matrix, and normalizes each row so that it is a transition matrix.\n",
    "    Starts from a random (normalized) probability distribution p and takes 50 steps => p_50\n",
    "    Computes the stationary distribution: the eigenvector of P.T with eigenvalue 1 (numerically: closest to 1) => p_stationary\n",
    "\n",
    "Remember to normalize the eigenvector — I didn’t…\n",
    "\n",
    "    Checks if p_50 and p_stationary are equal to tolerance 1e-5\n",
    "\n",
    "Toolbox: np.random.rand, .dot(), np.linalg.eig, reductions, abs(), argmin, comparisons, all, np.linalg.norm, etc."
   ]
  },
  {
   "cell_type": "code",
   "execution_count": null,
   "metadata": {},
   "outputs": [],
   "source": [
    "import numpy as np\n",
    "\n",
    "np.random.seed(1234)\n",
    "\n",
    "n_states = 5\n",
    "n_steps = 50\n",
    "tolerance = 1e-5\n",
    "\n",
    "# Random transition matrix and state vector\n",
    "P = np.random.rand(n_states, n_states)\n",
    "p = np.random.rand(n_states)\n",
    "\n",
    "# Normalize rows in P\n",
    "P /= P.sum(axis=1)[:,np.newaxis]\n",
    "\n",
    "# Normalize p\n",
    "p /= p.sum()\n",
    "\n",
    "# Take steps\n",
    "for k in range(n_steps):\n",
    "    p = P.T.dot(p)\n",
    "\n",
    "p_50 = p\n",
    "print(p_50)\n",
    "\n",
    "# Compute stationary state\n",
    "w, v = np.linalg.eig(P.T)\n",
    "\n",
    "j_stationary = np.argmin(abs(w - 1.0))\n",
    "p_stationary = v[:,j_stationary].real\n",
    "p_stationary /= p_stationary.sum()\n",
    "print(p_stationary)\n",
    "\n",
    "# Compare\n",
    "if all(abs(p_50 - p_stationary) < tolerance):\n",
    "    print(\"Tolerance satisfied in infty-norm\")\n",
    "\n",
    "if np.linalg.norm(p_50 - p_stationary) < tolerance:\n",
    "    print(\"Tolerance satisfied in 2-norm\")"
   ]
  },
  {
   "cell_type": "markdown",
   "metadata": {},
   "source": [
    "## Integral Approximation"
   ]
  },
  {
   "cell_type": "markdown",
   "metadata": {},
   "source": [
    "Write a function f(a, b, c) that returns a^b - c. Form a 24x12x6 array containing its values in parameter ranges [0,1] x [0,1] x [0,1].\n",
    "\n",
    "Approximate the 3-d integral\n",
    "\n",
    "\\int_0^1\\int_0^1\\int_0^1(a^b-c)da\\,db\\,dc\n",
    "\n",
    "over this volume with the mean. The exact result is: \\ln 2 - \\frac{1}{2}\\approx0.1931\\ldots — what is your relative error?\n",
    "\n",
    "(Hints: use elementwise operations and broadcasting. You can make np.ogrid give a number of points in given range with np.ogrid[0:1:20j].)"
   ]
  },
  {
   "cell_type": "code",
   "execution_count": null,
   "metadata": {},
   "outputs": [],
   "source": [
    "import numpy as np\n",
    "from numpy import newaxis\n",
    "\n",
    "def f(a, b, c):\n",
    "    return a**b - c\n",
    "\n",
    "a = np.linspace(0, 1, 24)\n",
    "b = np.linspace(0, 1, 12)\n",
    "c = np.linspace(0, 1, 6)\n",
    "\n",
    "samples = f(a[:,newaxis,newaxis],\n",
    "            b[newaxis,:,newaxis],\n",
    "            c[newaxis,newaxis,:])\n",
    "\n",
    "# or,\n",
    "#\n",
    "# a, b, c = np.ogrid[0:1:24j, 0:1:12j, 0:1:6j]\n",
    "# samples = f(a, b, c)\n",
    "\n",
    "integral = samples.mean()\n",
    "\n",
    "print(\"Approximation:\", integral)\n",
    "print(\"Exact:\", np.log(2) - 0.5)"
   ]
  },
  {
   "cell_type": "markdown",
   "metadata": {},
   "source": [
    "## Load Numpy Arrays"
   ]
  },
  {
   "cell_type": "markdown",
   "metadata": {},
   "source": [
    "\n",
    "\n",
    "Exercise: Text data files\n",
    "\n",
    "Write a Python script that loads data from populations.txt:: and drop the last column and the first 5 rows. Save the smaller dataset to pop2.txt.\n"
   ]
  }
 ],
 "metadata": {
  "kernelspec": {
   "display_name": "Python 3",
   "language": "python",
   "name": "python3"
  },
  "language_info": {
   "codemirror_mode": {
    "name": "ipython",
    "version": 3
   },
   "file_extension": ".py",
   "mimetype": "text/x-python",
   "name": "python",
   "nbconvert_exporter": "python",
   "pygments_lexer": "ipython3",
   "version": "3.8.10"
  },
  "latex_envs": {
   "LaTeX_envs_menu_present": true,
   "autoclose": false,
   "autocomplete": true,
   "bibliofile": "biblio.bib",
   "cite_by": "apalike",
   "current_citInitial": 1,
   "eqLabelWithNumbers": true,
   "eqNumInitial": 1,
   "hotkeys": {
    "equation": "Ctrl-E",
    "itemize": "Ctrl-I"
   },
   "labels_anchors": false,
   "latex_user_defs": false,
   "report_style_numbering": false,
   "user_envs_cfg": false
  },
  "toc": {
   "base_numbering": 1,
   "nav_menu": {},
   "number_sections": true,
   "sideBar": true,
   "skip_h1_title": false,
   "title_cell": "Übungsaufgaben Programmierpraktikum WS 2019/202 ",
   "title_sidebar": "Contents",
   "toc_cell": true,
   "toc_position": {
    "height": "calc(100% - 180px)",
    "left": "10px",
    "top": "150px",
    "width": "469.325px"
   },
   "toc_section_display": true,
   "toc_window_display": false
  },
  "varInspector": {
   "cols": {
    "lenName": 16,
    "lenType": 16,
    "lenVar": 40
   },
   "kernels_config": {
    "python": {
     "delete_cmd_postfix": "",
     "delete_cmd_prefix": "del ",
     "library": "var_list.py",
     "varRefreshCmd": "print(var_dic_list())"
    },
    "r": {
     "delete_cmd_postfix": ") ",
     "delete_cmd_prefix": "rm(",
     "library": "var_list.r",
     "varRefreshCmd": "cat(var_dic_list()) "
    }
   },
   "types_to_exclude": [
    "module",
    "function",
    "builtin_function_or_method",
    "instance",
    "_Feature"
   ],
   "window_display": false
  }
 },
 "nbformat": 4,
 "nbformat_minor": 2
}
