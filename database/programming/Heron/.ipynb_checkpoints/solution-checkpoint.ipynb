{
 "cells": [
  {
   "cell_type": "code",
   "execution_count": null,
   "metadata": {},
   "outputs": [],
   "source": [
    "def heron(a, x0=0.1, tol=10e-10, maxiter =1000):\n",
    "    \"\"\"\n",
    "    applies the iteration rule according to the so -called \"Heron method\"\n",
    "    \"\"\"\n",
    "    counter = 0\n",
    "    # while the error is above our tolerance we do the iteration\n",
    "    while abs(x0 - a**0.5) > tol:\n",
    "        # print the current error\n",
    "        print(\"Error =\", abs(x0 - a**0.5))\n",
    "        # perfom one step of the heron method:\n",
    "        x0 = 0.5 * ((x0 ** 2 + a) / x0)\n",
    "        # update the counter\n",
    "        counter += 1\n",
    "        if counter > maxiter:\n",
    "            # stop the while loop if too many iterations\n",
    "            break\n",
    "        print(\"\\n Result: sqrt(a) =\", x0, \"\\n\")\n",
    "    return x0\n",
    "\n",
    "if __name__ == \"__main__\":\n",
    "    a = 2.\n",
    "    # Choose different initial values\n",
    "    x0 = [0.1, 1., 100000 , 1.3]\n",
    "    for x in x0:\n",
    "        print(\"\\n x0 =\", x, \"\\n---------------\\n\")\n",
    "        heron(a, x0=x)\n",
    "    help(heron)"
   ]
  },
  {
   "cell_type": "code",
   "execution_count": null,
   "metadata": {},
   "outputs": [],
   "source": []
  }
 ],
 "metadata": {
  "kernelspec": {
   "display_name": "Python 3",
   "language": "python",
   "name": "python3"
  },
  "language_info": {
   "codemirror_mode": {
    "name": "ipython",
    "version": 3
   },
   "file_extension": ".py",
   "mimetype": "text/x-python",
   "name": "python",
   "nbconvert_exporter": "python",
   "pygments_lexer": "ipython3",
   "version": "3.8.10"
  },
  "latex_envs": {
   "LaTeX_envs_menu_present": true,
   "autoclose": true,
   "autocomplete": true,
   "bibliofile": "biblio.bib",
   "cite_by": "apalike",
   "current_citInitial": 1,
   "eqLabelWithNumbers": true,
   "eqNumInitial": 1,
   "hotkeys": {
    "equation": "Ctrl-E",
    "itemize": "Ctrl-I"
   },
   "labels_anchors": false,
   "latex_user_defs": false,
   "report_style_numbering": false,
   "user_envs_cfg": false
  },
  "toc": {
   "base_numbering": 1,
   "nav_menu": {},
   "number_sections": true,
   "sideBar": true,
   "skip_h1_title": false,
   "title_cell": "Table of Contents",
   "title_sidebar": "Contents",
   "toc_cell": true,
   "toc_position": {},
   "toc_section_display": true,
   "toc_window_display": false
  },
  "varInspector": {
   "cols": {
    "lenName": 16,
    "lenType": 16,
    "lenVar": 40
   },
   "kernels_config": {
    "python": {
     "delete_cmd_postfix": "",
     "delete_cmd_prefix": "del ",
     "library": "var_list.py",
     "varRefreshCmd": "print(var_dic_list())"
    },
    "r": {
     "delete_cmd_postfix": ") ",
     "delete_cmd_prefix": "rm(",
     "library": "var_list.r",
     "varRefreshCmd": "cat(var_dic_list()) "
    }
   },
   "types_to_exclude": [
    "module",
    "function",
    "builtin_function_or_method",
    "instance",
    "_Feature"
   ],
   "window_display": false
  }
 },
 "nbformat": 4,
 "nbformat_minor": 4
}
