{
 "cells": [
  {
   "cell_type": "markdown",
   "metadata": {},
   "source": [
    "### Manuelles Compilieren vom Sourcecode\n",
    "\n",
    "Die folgenden Zeilen müssen so in die entsprechenden Dateien kopiert oder ausgeführt werden.\n",
    "\n",
    "Datei **sourceCode.py**\n",
    "\n",
    "`print(\"Hello World\")`\n",
    "\n",
    "Ausführung in der **shell**\n",
    "\n",
    "`python -m py_compile sourceCode.py`\n",
    "\n",
    "\n",
    "### Time \n",
    "\n",
    "%time ist ein Magical command um schnell die Ausführungszeit fon Funktionen zu messen. Um genaure Informationen bei kleinen Funktionen zu bekommen bietet sich %timeit an. Dabei wird die Messung oft iteriert und ein Mittelwert zurück gegeben."
   ]
  },
  {
   "cell_type": "code",
   "execution_count": 14,
   "metadata": {},
   "outputs": [],
   "source": [
    "# Beispielprogramm zu Berechnung der Fakultät\n",
    "def fac(n):\n",
    "    m = 1\n",
    "    if n > 1:\n",
    "        m = fac(n-1)\n",
    "    return m*n"
   ]
  },
  {
   "cell_type": "code",
   "execution_count": 13,
   "metadata": {},
   "outputs": [
    {
     "name": "stdout",
     "output_type": "stream",
     "text": [
      "CPU times: user 4 µs, sys: 0 ns, total: 4 µs\n",
      "Wall time: 5.48 µs\n"
     ]
    },
    {
     "data": {
      "text/plain": [
       "3628800"
      ]
     },
     "execution_count": 13,
     "metadata": {},
     "output_type": "execute_result"
    }
   ],
   "source": [
    "%time fac(10)"
   ]
  },
  {
   "cell_type": "code",
   "execution_count": 15,
   "metadata": {},
   "outputs": [
    {
     "name": "stdout",
     "output_type": "stream",
     "text": [
      "854 ns ± 5.7 ns per loop (mean ± std. dev. of 7 runs, 1000000 loops each)\n"
     ]
    }
   ],
   "source": [
    "%timeit fac(10)"
   ]
  },
  {
   "cell_type": "code",
   "execution_count": null,
   "metadata": {},
   "outputs": [],
   "source": []
  }
 ],
 "metadata": {
  "kernelspec": {
   "display_name": "Python 3",
   "language": "python",
   "name": "python3"
  },
  "language_info": {
   "codemirror_mode": {
    "name": "ipython",
    "version": 3
   },
   "file_extension": ".py",
   "mimetype": "text/x-python",
   "name": "python",
   "nbconvert_exporter": "python",
   "pygments_lexer": "ipython3",
   "version": "3.6.9"
  }
 },
 "nbformat": 4,
 "nbformat_minor": 4
}
