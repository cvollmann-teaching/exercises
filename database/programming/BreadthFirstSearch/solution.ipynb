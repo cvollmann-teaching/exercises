{
 "cells": [
  {
   "cell_type": "code",
   "execution_count": 2,
   "metadata": {},
   "outputs": [],
   "source": [
    "# Code found on:\n",
    "# https://www.educative.io/edpresso/how-to-implement-a-breadth-first-search-in-python\n",
    "\n",
    "graph = [\n",
    "  [1, 5],\n",
    "  [2, 4],\n",
    "  [],\n",
    "  [],\n",
    "  [3,2],\n",
    "  [2]\n",
    "]\n",
    "\n",
    "def bfs(graph, node):\n",
    "    \"\"\"\n",
    "    Performs a breadth first search and returns the breadth first tree (which is a special graph) as list.\n",
    "\n",
    "    :param visited:\n",
    "    \"\"\"\n",
    "    bfsTree = []     # Stores the breadth first graph\n",
    "    visited = []  # List to keep track of visited nodes.\n",
    "                # no node is visited twice!\n",
    "    queue = []    # Initialize a queue, which collects the next nodes\n",
    "                # which are visited\n",
    "\n",
    "    visited.append(node) # The start node has been visited\n",
    "    queue.append(node)   # The start node is appended to the queue\n",
    "    while queue: # As long there is something in the queue\n",
    "        s = queue.pop(0) # We read and delete the first element\n",
    "        bfsTree.append([].copy()) # We get a new node in the bfs-graph\n",
    "        for neighbour in graph[s]: \n",
    "          # We will visit all neighbours of s, unless they have been visited already\n",
    "          if neighbour not in visited:\n",
    "            visited.append(neighbour) # The neighbour has now been visited\n",
    "            queue.append(neighbour)   # and is appended to the queue\n",
    "            bfsTree[s].append(neighbour) # Store that we got from s -> neighbbour\n",
    "    return bfsTree\n",
    "\n",
    "# Driver Code\n",
    "bfsTree = bfs(graph, 0)"
   ]
  },
  {
   "cell_type": "code",
   "execution_count": 3,
   "metadata": {},
   "outputs": [
    {
     "name": "stdout",
     "output_type": "stream",
     "text": [
      "   [1, 5]\n",
      "   /   | \n",
      "[2, 4] []\n",
      " /  | \n",
      "[] [3]\n"
     ]
    }
   ],
   "source": [
    "# The path from 0 to 3 is automatically the shortest path in the given breadth first tree.\n",
    "# So we just need to find the connection from 0 to 3 in the bfsTree.\n",
    "# To that end we just follow the given graph and find the correct one.\n",
    "\n",
    "print(\"  \", bfsTree[0])\n",
    "print(\"   /   | \")\n",
    "print(bfsTree[bfsTree[0][0]], bfsTree[bfsTree[0][1]])\n",
    "print(\" /  | \")\n",
    "print(bfsTree[bfsTree[1][0]], bfsTree[bfsTree[1][1]])"
   ]
  }
 ],
 "metadata": {
  "kernelspec": {
   "display_name": "Python 3",
   "language": "python",
   "name": "python3"
  },
  "language_info": {
   "codemirror_mode": {
    "name": "ipython",
    "version": 3
   },
   "file_extension": ".py",
   "mimetype": "text/x-python",
   "name": "python",
   "nbconvert_exporter": "python",
   "pygments_lexer": "ipython3",
   "version": "3.8.10"
  },
  "latex_envs": {
   "LaTeX_envs_menu_present": true,
   "autoclose": true,
   "autocomplete": true,
   "bibliofile": "biblio.bib",
   "cite_by": "apalike",
   "current_citInitial": 1,
   "eqLabelWithNumbers": true,
   "eqNumInitial": 1,
   "hotkeys": {
    "equation": "Ctrl-E",
    "itemize": "Ctrl-I"
   },
   "labels_anchors": false,
   "latex_user_defs": false,
   "report_style_numbering": false,
   "user_envs_cfg": false
  },
  "toc": {
   "base_numbering": 1,
   "nav_menu": {},
   "number_sections": true,
   "sideBar": true,
   "skip_h1_title": false,
   "title_cell": "Table of Contents",
   "title_sidebar": "Contents",
   "toc_cell": false,
   "toc_position": {},
   "toc_section_display": true,
   "toc_window_display": true
  }
 },
 "nbformat": 4,
 "nbformat_minor": 4
}
