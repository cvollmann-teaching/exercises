{
 "cells": [
  {
   "cell_type": "markdown",
   "metadata": {},
   "source": [
    "# Addieren von Zahlen im selben Stellenwertsystem"
   ]
  },
  {
   "cell_type": "code",
   "execution_count": 3,
   "metadata": {},
   "outputs": [],
   "source": [
    "def add(a, b, basis):\n",
    "    \"\"\"\n",
    "    Parameters\n",
    "    ----------\n",
    "    a : \n",
    "    b : \n",
    "    \n",
    "    Returns\n",
    "    -------\n",
    "    \"\"\"\n",
    "    digitList = '0123456789abcdefghijklmnopqrstuvwxyz'\n",
    "    if basis > len(digitList):\n",
    "        raise ValueError(\"Sorry, a basis larger than 36 is not supported.\")  \n",
    "        \n",
    "    a = [digitList[:basis].find(el) for el in a]\n",
    "    a.reverse()\n",
    "    b = [digitList[:basis].find(el) for el in b]\n",
    "    b.reverse()\n",
    "    \n",
    "    for el in a:\n",
    "        if el < 0:\n",
    "            raise ValueError(\"Some coefficients exceed the basis.\")\n",
    "    for el in b:\n",
    "        if el < 0:\n",
    "            raise ValueError(\"Some coefficients exceed the basis.\")\n",
    "            \n",
    "    if len(a) < len(b):\n",
    "        b, a = a, b\n",
    "        \n",
    "    c = \"\"\n",
    "    carry = 0\n",
    "    for k, el in enumerate(b):\n",
    "        s = a[k] + b[k] + carry\n",
    "        sMod = s % basis\n",
    "        carry = s // basis\n",
    "        c+=digitList[:basis][sMod]\n",
    "    k += 1\n",
    "    for l in range(k, len(a)):\n",
    "        s = a[l] + carry\n",
    "        sMod = s % basis\n",
    "        carry = s // basis\n",
    "        c+=digitList[:basis][sMod]\n",
    "    if carry:\n",
    "        c+=digitList[:basis][carry]\n",
    "   \n",
    "    return c[::-1]"
   ]
  },
  {
   "cell_type": "code",
   "execution_count": 4,
   "metadata": {},
   "outputs": [
    {
     "data": {
      "text/plain": [
       "'1d'"
      ]
     },
     "execution_count": 4,
     "metadata": {},
     "output_type": "execute_result"
    }
   ],
   "source": [
    "add('e', 'f', 16)"
   ]
  },
  {
   "cell_type": "code",
   "execution_count": null,
   "metadata": {},
   "outputs": [],
   "source": []
  }
 ],
 "metadata": {
  "kernelspec": {
   "display_name": "Python 3",
   "language": "python",
   "name": "python3"
  },
  "language_info": {
   "codemirror_mode": {
    "name": "ipython",
    "version": 3
   },
   "file_extension": ".py",
   "mimetype": "text/x-python",
   "name": "python",
   "nbconvert_exporter": "python",
   "pygments_lexer": "ipython3",
   "version": "3.6.9"
  },
  "latex_envs": {
   "LaTeX_envs_menu_present": true,
   "autoclose": true,
   "autocomplete": true,
   "bibliofile": "biblio.bib",
   "cite_by": "apalike",
   "current_citInitial": 1,
   "eqLabelWithNumbers": true,
   "eqNumInitial": 1,
   "hotkeys": {
    "equation": "Ctrl-E",
    "itemize": "Ctrl-I"
   },
   "labels_anchors": false,
   "latex_user_defs": false,
   "report_style_numbering": false,
   "user_envs_cfg": false
  },
  "toc": {
   "base_numbering": 1,
   "nav_menu": {},
   "number_sections": true,
   "sideBar": true,
   "skip_h1_title": false,
   "title_cell": "Table of Contents",
   "title_sidebar": "Contents",
   "toc_cell": true,
   "toc_position": {},
   "toc_section_display": true,
   "toc_window_display": false
  },
  "varInspector": {
   "cols": {
    "lenName": 16,
    "lenType": 16,
    "lenVar": 40
   },
   "kernels_config": {
    "python": {
     "delete_cmd_postfix": "",
     "delete_cmd_prefix": "del ",
     "library": "var_list.py",
     "varRefreshCmd": "print(var_dic_list())"
    },
    "r": {
     "delete_cmd_postfix": ") ",
     "delete_cmd_prefix": "rm(",
     "library": "var_list.r",
     "varRefreshCmd": "cat(var_dic_list()) "
    }
   },
   "types_to_exclude": [
    "module",
    "function",
    "builtin_function_or_method",
    "instance",
    "_Feature"
   ],
   "window_display": false
  }
 },
 "nbformat": 4,
 "nbformat_minor": 4
}
