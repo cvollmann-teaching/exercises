{
 "cells": [
  {
   "cell_type": "markdown",
   "metadata": {
    "toc": true
   },
   "source": [
    "<h1>Table of Contents<span class=\"tocSkip\"></span></h1>\n",
    "<div class=\"toc\"><ul class=\"toc-item\"><li><span><a href=\"#Maximum\" data-toc-modified-id=\"Maximum-1\"><span class=\"toc-item-num\">1&nbsp;&nbsp;</span>Maximum</a></span></li></ul></div>"
   ]
  },
  {
   "cell_type": "markdown",
   "metadata": {},
   "source": [
    "### Maximum \n",
    "\n",
    "(i)"
   ]
  },
  {
   "cell_type": "code",
   "execution_count": 1,
   "metadata": {},
   "outputs": [],
   "source": [
    "def isMaximum(maxIndex, inputList):\n",
    "    \"\"\"\n",
    "    Checks whether an index points to the maximum of a list.\n",
    "\n",
    "    :param index: int\n",
    "    :param inputList: list\n",
    "    :return: bool\n",
    "    \"\"\"\n",
    "    maxVal = inputList[maxIndex]\n",
    "    for value in inputList:\n",
    "        if maxVal < value:\n",
    "            return False\n",
    "    return True"
   ]
  },
  {
   "cell_type": "markdown",
   "metadata": {},
   "source": [
    "(ii)"
   ]
  },
  {
   "cell_type": "code",
   "execution_count": 2,
   "metadata": {},
   "outputs": [],
   "source": [
    "def maximum(inputList):\n",
    "    \"\"\"\n",
    "    Returns the value and the index of the maximal value in a list.\n",
    "\n",
    "    :param inputList: type list\n",
    "    :return: value, index\n",
    "    \"\"\"\n",
    "    currentIndex = 0\n",
    "    currentVal = inputList[currentIndex]\n",
    "    for i, v in enumerate(inputList):  # enumerate iterates through and the corresponding indices of the items\n",
    "        if v > currentVal:\n",
    "            currentIndex = i\n",
    "            currentVal = v\n",
    "    return currentVal, currentIndex"
   ]
  },
  {
   "cell_type": "code",
   "execution_count": 3,
   "metadata": {},
   "outputs": [
    {
     "name": "stdout",
     "output_type": "stream",
     "text": [
      "Value and index are 10 , 2\n",
      "is Maximum: True\n"
     ]
    },
    {
     "data": {
      "text/plain": [
       "('z', 2)"
      ]
     },
     "execution_count": 3,
     "metadata": {},
     "output_type": "execute_result"
    }
   ],
   "source": [
    "inputList = [1, 2, 10, -3, 0]\n",
    "value, index = maximum(inputList)\n",
    "print(\"Value and index are\", value, \",\", index)\n",
    "print(\"is Maximum:\", isMaximum(index, inputList))\n",
    "\n",
    "# Das funktioniert nicht nur für Zahlen\n",
    "inputList = [\"g\", \"b\", \"z\", \"d\"]\n",
    "maximum(inputList)"
   ]
  },
  {
   "cell_type": "code",
   "execution_count": null,
   "metadata": {},
   "outputs": [],
   "source": []
  }
 ],
 "metadata": {
  "kernelspec": {
   "display_name": "Python 3",
   "language": "python",
   "name": "python3"
  },
  "language_info": {
   "codemirror_mode": {
    "name": "ipython",
    "version": 3
   },
   "file_extension": ".py",
   "mimetype": "text/x-python",
   "name": "python",
   "nbconvert_exporter": "python",
   "pygments_lexer": "ipython3",
   "version": "3.6.9"
  },
  "latex_envs": {
   "LaTeX_envs_menu_present": true,
   "autoclose": true,
   "autocomplete": true,
   "bibliofile": "biblio.bib",
   "cite_by": "apalike",
   "current_citInitial": 1,
   "eqLabelWithNumbers": true,
   "eqNumInitial": 1,
   "hotkeys": {
    "equation": "Ctrl-E",
    "itemize": "Ctrl-I"
   },
   "labels_anchors": false,
   "latex_user_defs": false,
   "report_style_numbering": false,
   "user_envs_cfg": false
  },
  "toc": {
   "base_numbering": 1,
   "nav_menu": {},
   "number_sections": true,
   "sideBar": true,
   "skip_h1_title": false,
   "title_cell": "Table of Contents",
   "title_sidebar": "Contents",
   "toc_cell": true,
   "toc_position": {},
   "toc_section_display": true,
   "toc_window_display": false
  },
  "varInspector": {
   "cols": {
    "lenName": 16,
    "lenType": 16,
    "lenVar": 40
   },
   "kernels_config": {
    "python": {
     "delete_cmd_postfix": "",
     "delete_cmd_prefix": "del ",
     "library": "var_list.py",
     "varRefreshCmd": "print(var_dic_list())"
    },
    "r": {
     "delete_cmd_postfix": ") ",
     "delete_cmd_prefix": "rm(",
     "library": "var_list.r",
     "varRefreshCmd": "cat(var_dic_list()) "
    }
   },
   "types_to_exclude": [
    "module",
    "function",
    "builtin_function_or_method",
    "instance",
    "_Feature"
   ],
   "window_display": false
  }
 },
 "nbformat": 4,
 "nbformat_minor": 4
}
