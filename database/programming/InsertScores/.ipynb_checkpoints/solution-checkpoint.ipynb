{
 "cells": [
  {
   "cell_type": "markdown",
   "metadata": {},
   "source": [
    "### High Scores"
   ]
  },
  {
   "cell_type": "code",
   "execution_count": 4,
   "metadata": {},
   "outputs": [],
   "source": [
    "def insertScore(score, scoreList):\n",
    "    \"\"\"\n",
    "    This function expects a descending list of scores, and inserts \n",
    "    the a new score into it. Duplicates are ignored.\n",
    "    \n",
    "    :param score: float\n",
    "    :param scoreList: list\n",
    "    \"\"\"\n",
    "    n = len(scoreList)\n",
    "    k = 0\n",
    "    while (k < n):\n",
    "        entry = scoreList[k]\n",
    "        if (score > entry):\n",
    "            break\n",
    "        k += 1\n",
    "    # If scoreList is empty entry will be undefined! However, python will not evaluate the second\n",
    "    # statement of and if the first one is False. Therefore we just check if n == 0.\n",
    "    if n and (score != entry):\n",
    "        scoreList.insert(k, score)"
   ]
  },
  {
   "cell_type": "code",
   "execution_count": 5,
   "metadata": {},
   "outputs": [
    {
     "name": "stdout",
     "output_type": "stream",
     "text": [
      "\n",
      "Score 0\n",
      "Input scoreList [4, 3, 1]\n",
      "New scoreList [4, 3, 1, 0]\n",
      "\n",
      "Score 1\n",
      "Input scoreList [4, 3, 1]\n",
      "New scoreList [4, 3, 1]\n",
      "\n",
      "Score 2\n",
      "Input scoreList [4, 3, 1]\n",
      "New scoreList [4, 3, 2, 1]\n",
      "\n",
      "Score 3\n",
      "Input scoreList [4, 3, 1]\n",
      "New scoreList [4, 3, 3, 1]\n",
      "\n",
      "Score 4\n",
      "Input scoreList [4, 3, 1]\n",
      "New scoreList [4, 4, 3, 1]\n",
      "\n",
      "Score 5\n",
      "Input scoreList [4, 3, 1]\n",
      "New scoreList [5, 4, 3, 1]\n"
     ]
    }
   ],
   "source": [
    "def testInsertScore():\n",
    "    scores = [0,1,2,3,4,5] # multiple examples for scores\n",
    "    for sc in scores:\n",
    "        scoreList = [4,3,1] # one example for scoreList\n",
    "        print(\"\\nScore\", sc)\n",
    "        print(\"Input scoreList\", scoreList)\n",
    "        insertScore(sc, scoreList)\n",
    "        print(\"New scoreList\", scoreList)\n",
    "        \n",
    "    insertScore(0, [])\n",
    "testInsertScore()"
   ]
  },
  {
   "cell_type": "code",
   "execution_count": null,
   "metadata": {},
   "outputs": [],
   "source": []
  },
  {
   "cell_type": "code",
   "execution_count": null,
   "metadata": {},
   "outputs": [],
   "source": []
  },
  {
   "cell_type": "code",
   "execution_count": null,
   "metadata": {},
   "outputs": [],
   "source": []
  }
 ],
 "metadata": {
  "kernelspec": {
   "display_name": "Python 3",
   "language": "python",
   "name": "python3"
  },
  "language_info": {
   "codemirror_mode": {
    "name": "ipython",
    "version": 3
   },
   "file_extension": ".py",
   "mimetype": "text/x-python",
   "name": "python",
   "nbconvert_exporter": "python",
   "pygments_lexer": "ipython3",
   "version": "3.8.10"
  },
  "latex_envs": {
   "LaTeX_envs_menu_present": true,
   "autoclose": true,
   "autocomplete": true,
   "bibliofile": "biblio.bib",
   "cite_by": "apalike",
   "current_citInitial": 1,
   "eqLabelWithNumbers": true,
   "eqNumInitial": 1,
   "hotkeys": {
    "equation": "Ctrl-E",
    "itemize": "Ctrl-I"
   },
   "labels_anchors": false,
   "latex_user_defs": false,
   "report_style_numbering": false,
   "user_envs_cfg": false
  },
  "toc": {
   "base_numbering": 1,
   "nav_menu": {},
   "number_sections": true,
   "sideBar": true,
   "skip_h1_title": false,
   "title_cell": "Table of Contents",
   "title_sidebar": "Contents",
   "toc_cell": true,
   "toc_position": {},
   "toc_section_display": true,
   "toc_window_display": false
  }
 },
 "nbformat": 4,
 "nbformat_minor": 4
}
