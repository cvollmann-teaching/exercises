{
 "cells": [
  {
   "cell_type": "markdown",
   "metadata": {},
   "source": [
    "### Katastrophale Auslöschung"
   ]
  },
  {
   "cell_type": "code",
   "execution_count": 2,
   "metadata": {},
   "outputs": [
    {
     "name": "stdout",
     "output_type": "stream",
     "text": [
      "Matrix\n",
      "[[1.e-09 1.e+00]\n",
      " [1.e+00 1.e-09]]\n",
      "\n",
      "Elimination Row:  [-1.e+00 -1.e+09]\n",
      "\n",
      "New Matrix\n",
      "[[ 1.e-09  1.e+00]\n",
      " [ 0.e+00 -1.e+09]]\n",
      "\n",
      "Solution of Ax=b for right hand side b =  [1, 1e-09]  will then be wrong because\n",
      "a-b != -b = -1.00e+09.\n"
     ]
    }
   ],
   "source": [
    "import numpy as np\n",
    "print(\"Matrix\")\n",
    "A = np.array([[1e-9, 1.], [1., 1e-9]])\n",
    "print(A)\n",
    "\n",
    "c = -A[0]*1e9\n",
    "print(\"\\nElimination Row: \", c)\n",
    "print(\"\\nNew Matrix\")\n",
    "A[1] += c\n",
    "print(A)\n",
    "b = [1, 1e-9]\n",
    "print(\"\\nSolution of Ax=b for right hand side b = \",b, \" will then be wrong because\")\n",
    "a = 1e-9\n",
    "b = 1e9\n",
    "print(\"a-b != -b = {:06.2e}.\".format(a-b))"
   ]
  },
  {
   "cell_type": "code",
   "execution_count": null,
   "metadata": {},
   "outputs": [],
   "source": []
  }
 ],
 "metadata": {
  "kernelspec": {
   "display_name": "Python 3",
   "language": "python",
   "name": "python3"
  },
  "language_info": {
   "codemirror_mode": {
    "name": "ipython",
    "version": 3
   },
   "file_extension": ".py",
   "mimetype": "text/x-python",
   "name": "python",
   "nbconvert_exporter": "python",
   "pygments_lexer": "ipython3",
   "version": "3.8.10"
  },
  "latex_envs": {
   "LaTeX_envs_menu_present": true,
   "autoclose": true,
   "autocomplete": true,
   "bibliofile": "biblio.bib",
   "cite_by": "apalike",
   "current_citInitial": 1,
   "eqLabelWithNumbers": true,
   "eqNumInitial": 1,
   "hotkeys": {
    "equation": "Ctrl-E",
    "itemize": "Ctrl-I"
   },
   "labels_anchors": false,
   "latex_user_defs": false,
   "report_style_numbering": false,
   "user_envs_cfg": false
  },
  "toc": {
   "base_numbering": 1,
   "nav_menu": {},
   "number_sections": true,
   "sideBar": true,
   "skip_h1_title": false,
   "title_cell": "Table of Contents",
   "title_sidebar": "Contents",
   "toc_cell": true,
   "toc_position": {},
   "toc_section_display": true,
   "toc_window_display": false
  },
  "varInspector": {
   "cols": {
    "lenName": 16,
    "lenType": 16,
    "lenVar": 40
   },
   "kernels_config": {
    "python": {
     "delete_cmd_postfix": "",
     "delete_cmd_prefix": "del ",
     "library": "var_list.py",
     "varRefreshCmd": "print(var_dic_list())"
    },
    "r": {
     "delete_cmd_postfix": ") ",
     "delete_cmd_prefix": "rm(",
     "library": "var_list.r",
     "varRefreshCmd": "cat(var_dic_list()) "
    }
   },
   "types_to_exclude": [
    "module",
    "function",
    "builtin_function_or_method",
    "instance",
    "_Feature"
   ],
   "window_display": false
  }
 },
 "nbformat": 4,
 "nbformat_minor": 4
}
