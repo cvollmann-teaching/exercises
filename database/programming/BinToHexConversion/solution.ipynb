{
 "cells": [
  {
   "cell_type": "markdown",
   "metadata": {},
   "source": [
    "# Binärzahl zu Hexadezimal bzw. Octalzahl\n",
    "\n",
    "Aus der Vorlesung wissen wir, dass für die Umrechnung einer Zahl $x \\in \\mathbb{N}$ von Binärdarstellung\n",
    "$(a_k)$ in Octaldarstellung $(c_k)$ gilt, dass\n",
    "\n",
    "$$\n",
    "x = \\sum_{k=0}^{N-1} a_k 2^k = \\sum_{k=0}^{M-1} c_k 8^k,\n",
    "$$\n",
    "wobei\n",
    "$$\n",
    "c_k := \\sum_{l=0}^{2} a_{3k+l}2^l\n",
    "$$\n",
    "und $M := \\left\\lfloor{\\frac{N}{3}} \\right\\rfloor$.\n",
    "\n",
    "\n",
    "- Schreiben Sie eine Python-Funktion binToOct(), die entsprechend der obigen Formel\n",
    "    eine Binärzahl in eine Octalzahl umwandelt.\n",
    "- Schreiben Sie eine Python-Funktion binToHex(), die den entsprechenden Zusammenhang\n",
    "    für Hexadezimalzahlen ausnutzt.\n"
   ]
  },
  {
   "cell_type": "code",
   "execution_count": 6,
   "metadata": {},
   "outputs": [],
   "source": [
    "def binToOct(a):\n",
    "    \"\"\"\n",
    "    Umrechnung einer Zahl x von Binärdarstellung a in Octaldarstellung b.\n",
    "\n",
    "    :param a: Binärdarstellung\n",
    "    :return: Octaldarstellung (string), Basis\n",
    "    \"\"\"\n",
    "    a = str(a)[2:][::-1]\n",
    "    N = len(a)\n",
    "    M = N//3 + 1\n",
    "    c = \"\"\n",
    "    for k in range(M):\n",
    "        c_current = 0\n",
    "        for l in range(3):\n",
    "            if 3*k + l == N:\n",
    "                break\n",
    "            c_current += int(a[3*k + l]) * 2**l\n",
    "        c += str(c_current)\n",
    "    #print(a, c, N, M)\n",
    "    # Returns string, and basis\n",
    "    return '0o'+c[::-1] if c else str(0), 8"
   ]
  },
  {
   "cell_type": "code",
   "execution_count": 7,
   "metadata": {},
   "outputs": [
    {
     "name": "stdout",
     "output_type": "stream",
     "text": [
      "('0o11', 8)\n",
      "0b1001\n"
     ]
    }
   ],
   "source": [
    "# Test with built-in Function\n",
    "a = '0b1001'\n",
    "\n",
    "print(binToOct(a))\n",
    "print(bin(int(* binToOct(a))))"
   ]
  },
  {
   "cell_type": "code",
   "execution_count": 8,
   "metadata": {},
   "outputs": [],
   "source": [
    "def binToHex(a):\n",
    "    \"\"\"\n",
    "    Umrechnung einer Zahl x von Binärdarstellung a in Hexadezimaldarstellung b.\n",
    "\n",
    "    :param a: Binärdarstellung\n",
    "    :return: Hexadezimaldarstellung (string), Basis\n",
    "    \"\"\"\n",
    "    hexChars = \"0123456789abcdef\"\n",
    "    a = str(a)[2:][::-1]\n",
    "    N = len(a)\n",
    "    M = N//4 + 1\n",
    "    c = \"\"\n",
    "    for k in range(M):\n",
    "        c_current = 0\n",
    "        for l in range(4):\n",
    "            if 4*k + l == N:\n",
    "                break\n",
    "            c_current += int(a[4*k + l]) * 2**l\n",
    "        c += hexChars[c_current]\n",
    "    #print(a, c, N, M)\n",
    "    return '0x'+c[::-1] if c else str(0), 16"
   ]
  },
  {
   "cell_type": "code",
   "execution_count": 12,
   "metadata": {},
   "outputs": [
    {
     "name": "stdout",
     "output_type": "stream",
     "text": [
      "('0x0f', 16)\n",
      "0b1111\n"
     ]
    }
   ],
   "source": [
    "# Test with built-in Function\n",
    "a = '0b1111'\n",
    "\n",
    "print(binToHex(a))\n",
    "print(bin(int(*binToHex(a)))) # * unpacks the tuple"
   ]
  }
 ],
 "metadata": {
  "kernelspec": {
   "display_name": "Python 3",
   "language": "python",
   "name": "python3"
  },
  "language_info": {
   "codemirror_mode": {
    "name": "ipython",
    "version": 3
   },
   "file_extension": ".py",
   "mimetype": "text/x-python",
   "name": "python",
   "nbconvert_exporter": "python",
   "pygments_lexer": "ipython3",
   "version": "3.8.10"
  },
  "latex_envs": {
   "LaTeX_envs_menu_present": true,
   "autoclose": true,
   "autocomplete": true,
   "bibliofile": "biblio.bib",
   "cite_by": "apalike",
   "current_citInitial": 1,
   "eqLabelWithNumbers": true,
   "eqNumInitial": 1,
   "hotkeys": {
    "equation": "Ctrl-E",
    "itemize": "Ctrl-I"
   },
   "labels_anchors": false,
   "latex_user_defs": false,
   "report_style_numbering": false,
   "user_envs_cfg": false
  },
  "toc": {
   "base_numbering": 1,
   "nav_menu": {},
   "number_sections": true,
   "sideBar": true,
   "skip_h1_title": false,
   "title_cell": "Table of Contents",
   "title_sidebar": "Contents",
   "toc_cell": true,
   "toc_position": {},
   "toc_section_display": true,
   "toc_window_display": false
  },
  "varInspector": {
   "cols": {
    "lenName": 16,
    "lenType": 16,
    "lenVar": 40
   },
   "kernels_config": {
    "python": {
     "delete_cmd_postfix": "",
     "delete_cmd_prefix": "del ",
     "library": "var_list.py",
     "varRefreshCmd": "print(var_dic_list())"
    },
    "r": {
     "delete_cmd_postfix": ") ",
     "delete_cmd_prefix": "rm(",
     "library": "var_list.r",
     "varRefreshCmd": "cat(var_dic_list()) "
    }
   },
   "types_to_exclude": [
    "module",
    "function",
    "builtin_function_or_method",
    "instance",
    "_Feature"
   ],
   "window_display": false
  }
 },
 "nbformat": 4,
 "nbformat_minor": 4
}
