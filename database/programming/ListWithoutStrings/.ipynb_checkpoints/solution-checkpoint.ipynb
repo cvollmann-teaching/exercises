{
 "cells": [
  {
   "cell_type": "markdown",
   "metadata": {},
   "source": [
    "### Remove Strings"
   ]
  },
  {
   "cell_type": "code",
   "execution_count": 34,
   "metadata": {},
   "outputs": [],
   "source": [
    "def removeStrings(inputList):\n",
    "    \"\"\"\n",
    "    This function expects a list of nonnegative integers or strings\n",
    "    and removes the strings. It returns None and prints an error\n",
    "    of negative integers or value of other type are contained in the list.\n",
    "    \n",
    "    :param inputList: list\n",
    "    :return: list\n",
    "    \"\"\"\n",
    "    # Original list is not touched.\n",
    "    outputList = inputList.copy()\n",
    "    j = 0\n",
    "    for k, val in enumerate(inputList):\n",
    "        if type(val) == str:\n",
    "            # Remove the element from outputlist\n",
    "            outputList.pop(j)\n",
    "        elif (type(val) != int) or (type(val) == int and val < 0):\n",
    "                print(\"Fehler: Falscher Wert\")\n",
    "                return None\n",
    "        else:\n",
    "            # We should only increase j if output list does not\n",
    "            # decrease!\n",
    "            j+=1\n",
    "    return outputList"
   ]
  },
  {
   "cell_type": "code",
   "execution_count": 35,
   "metadata": {},
   "outputs": [
    {
     "data": {
      "text/plain": [
       "[2, 3, 4, 4]"
      ]
     },
     "execution_count": 35,
     "metadata": {},
     "output_type": "execute_result"
    }
   ],
   "source": [
    "removeStrings([\"d\", \"f\", 2, 3, 4, \"h\", \"ee\", 4])"
   ]
  },
  {
   "cell_type": "code",
   "execution_count": 32,
   "metadata": {},
   "outputs": [
    {
     "name": "stdout",
     "output_type": "stream",
     "text": [
      "Fehler: Falscher Wert\n"
     ]
    }
   ],
   "source": [
    "removeStrings([\"d\", \"f\", 2, 3, 4, \"h\", \"ee\", -4])"
   ]
  },
  {
   "cell_type": "code",
   "execution_count": 33,
   "metadata": {},
   "outputs": [
    {
     "name": "stdout",
     "output_type": "stream",
     "text": [
      "Fehler: Falscher Wert\n"
     ]
    }
   ],
   "source": [
    "removeStrings([1.2, \"f\", 2, 3, 4, \"h\", \"ee\", -4])"
   ]
  },
  {
   "cell_type": "code",
   "execution_count": null,
   "metadata": {},
   "outputs": [],
   "source": []
  },
  {
   "cell_type": "code",
   "execution_count": null,
   "metadata": {},
   "outputs": [],
   "source": []
  }
 ],
 "metadata": {
  "kernelspec": {
   "display_name": "Python 3",
   "language": "python",
   "name": "python3"
  },
  "language_info": {
   "codemirror_mode": {
    "name": "ipython",
    "version": 3
   },
   "file_extension": ".py",
   "mimetype": "text/x-python",
   "name": "python",
   "nbconvert_exporter": "python",
   "pygments_lexer": "ipython3",
   "version": "3.8.10"
  },
  "latex_envs": {
   "LaTeX_envs_menu_present": true,
   "autoclose": true,
   "autocomplete": true,
   "bibliofile": "biblio.bib",
   "cite_by": "apalike",
   "current_citInitial": 1,
   "eqLabelWithNumbers": true,
   "eqNumInitial": 1,
   "hotkeys": {
    "equation": "Ctrl-E",
    "itemize": "Ctrl-I"
   },
   "labels_anchors": false,
   "latex_user_defs": false,
   "report_style_numbering": false,
   "user_envs_cfg": false
  },
  "toc": {
   "base_numbering": 1,
   "nav_menu": {},
   "number_sections": true,
   "sideBar": true,
   "skip_h1_title": false,
   "title_cell": "Table of Contents",
   "title_sidebar": "Contents",
   "toc_cell": true,
   "toc_position": {},
   "toc_section_display": true,
   "toc_window_display": false
  }
 },
 "nbformat": 4,
 "nbformat_minor": 4
}
