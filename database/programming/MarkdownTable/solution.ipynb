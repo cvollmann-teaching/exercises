{
 "cells": [
  {
   "cell_type": "markdown",
   "metadata": {},
   "source": [
    "### Markdown Tabelle mit Überschrift"
   ]
  },
  {
   "cell_type": "code",
   "execution_count": 55,
   "metadata": {},
   "outputs": [],
   "source": [
    "def mdTable(**columns):\n",
    "    \"\"\"\n",
    "    prints a list of dicts as markdown table. The keys are used as head\n",
    "    and the content of the list as body of the table's columns.\n",
    "    The lists do not need to have identical length.\n",
    "    \"\"\"\n",
    "    mdTab = \"\"\n",
    "    headline = \"|\"\n",
    "    separator = \"|\"\n",
    "    for key in columns.keys():\n",
    "        headline += key  + \"|\"\n",
    "        separator += \"-|\"\n",
    "    \n",
    "    mdTab += headline + \"\\n\" + separator + \"\\n\"\n",
    "    #print(headline)\n",
    "    #print(separator)\n",
    "    n_rows = [len(columns[k]) for k in columns.keys()]\n",
    "\n",
    "    for row in range(max(n_rows)):\n",
    "        col_number = 0 # ColumNumber\n",
    "        for key, value in columns.items():\n",
    "            if row < n_rows[col_number]:\n",
    "                #print(\"| \" + str(value[row]) + \" \", end=\"\")\n",
    "                mdTab += \"| \" + str(value[row]) + \" \"\n",
    "            else:\n",
    "                #print(\"| \", end=\"\")\n",
    "                mdTab += \"| \"\n",
    "            col_number += 1\n",
    "        #print(\"|\")\n",
    "        mdTab+=\"|\\n\"\n",
    "        \n",
    "    # in Datei speichern:\n",
    "    # f = open(\"filename\", \"w\")\n",
    "    # f.write(table)\n",
    "    # f.close()\n",
    "    return mdTab"
   ]
  },
  {
   "cell_type": "code",
   "execution_count": 56,
   "metadata": {
    "scrolled": true
   },
   "outputs": [
    {
     "name": "stdout",
     "output_type": "stream",
     "text": [
      "|computationTime|precision|algorithm|\n",
      "|-|-|-|\n",
      "| 0.1 | 0.01 | A |\n",
      "| 1.0 | 0.00234 | B |\n",
      "| 10.0 | 8.98e-05 | C |\n",
      "\n"
     ]
    }
   ],
   "source": [
    "mdTab = mdTable(computationTime = [0.1, 1.0, 10.0],\n",
    "        precision = [1.e-2, 2.34e-3, 8.98e-5],\n",
    "        algorithm = [\"A\", \"B\", \"C\"])\n",
    "print(mdTab)"
   ]
  },
  {
   "cell_type": "code",
   "execution_count": 57,
   "metadata": {
    "scrolled": false
   },
   "outputs": [],
   "source": [
    "# in Datei speichern:\n",
    "#f=open(\"TESTMD\", \"w\")\n",
    "#f.write(table)\n",
    "#f.close()"
   ]
  },
  {
   "cell_type": "markdown",
   "metadata": {},
   "source": [
    "|computationTime|precision|algorithm|\n",
    "|-|-|-|\n",
    "| 0.1 | 0.01 | A |\n",
    "| 1.0 | 0.00234 | B |\n",
    "| 10.0 | 8.98e-05 | C |"
   ]
  },
  {
   "cell_type": "code",
   "execution_count": 58,
   "metadata": {},
   "outputs": [
    {
     "name": "stdout",
     "output_type": "stream",
     "text": [
      "|computationTime|someValue|algorithm|\n",
      "|-|-|-|\n",
      "| 0.1 | 0.01 | A |\n",
      "| 1.0 | 0.00234 | B |\n",
      "| 10.0 | | C |\n",
      "\n"
     ]
    }
   ],
   "source": [
    "mdTab= mdTable(computationTime = [0.1, 1.0, 10.0],\n",
    "        someValue = [1.e-2, 2.34e-3],\n",
    "        algorithm = [\"A\", \"B\", \"C\"])\n",
    "print(mdTab)"
   ]
  },
  {
   "cell_type": "markdown",
   "metadata": {},
   "source": [
    "|computationTime|someValue|algorithm|\n",
    "|-|-|-|\n",
    "| 0.1 | 0.01 | A |\n",
    "| 1.0 | 0.00234 | B |\n",
    "| 10.0 | | C |"
   ]
  },
  {
   "cell_type": "code",
   "execution_count": null,
   "metadata": {},
   "outputs": [],
   "source": []
  },
  {
   "cell_type": "code",
   "execution_count": null,
   "metadata": {},
   "outputs": [],
   "source": []
  }
 ],
 "metadata": {
  "kernelspec": {
   "display_name": "Python 3",
   "language": "python",
   "name": "python3"
  },
  "language_info": {
   "codemirror_mode": {
    "name": "ipython",
    "version": 3
   },
   "file_extension": ".py",
   "mimetype": "text/x-python",
   "name": "python",
   "nbconvert_exporter": "python",
   "pygments_lexer": "ipython3",
   "version": "3.8.10"
  },
  "latex_envs": {
   "LaTeX_envs_menu_present": true,
   "autoclose": true,
   "autocomplete": true,
   "bibliofile": "biblio.bib",
   "cite_by": "apalike",
   "current_citInitial": 1,
   "eqLabelWithNumbers": true,
   "eqNumInitial": 1,
   "hotkeys": {
    "equation": "Ctrl-E",
    "itemize": "Ctrl-I"
   },
   "labels_anchors": false,
   "latex_user_defs": false,
   "report_style_numbering": false,
   "user_envs_cfg": false
  },
  "toc": {
   "base_numbering": 1,
   "nav_menu": {},
   "number_sections": true,
   "sideBar": true,
   "skip_h1_title": false,
   "title_cell": "Table of Contents",
   "title_sidebar": "Contents",
   "toc_cell": true,
   "toc_position": {},
   "toc_section_display": true,
   "toc_window_display": false
  }
 },
 "nbformat": 4,
 "nbformat_minor": 4
}
