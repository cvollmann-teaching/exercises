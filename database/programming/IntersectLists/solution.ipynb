{
 "cells": [
  {
   "cell_type": "markdown",
   "metadata": {},
   "source": [
    "### Schnitt zweier Listen\n",
    "\n",
    "Die unten angegebene Fuktion `set` wandelt Listen in Menge um. Dadruch enthalten Sie keine Duplikate mehr."
   ]
  },
  {
   "cell_type": "code",
   "execution_count": 18,
   "metadata": {},
   "outputs": [],
   "source": [
    "def intersection(lst1, lst2): \n",
    "    return list(set(lst1) & set(lst1))"
   ]
  },
  {
   "cell_type": "code",
   "execution_count": 22,
   "metadata": {
    "scrolled": true
   },
   "outputs": [
    {
     "data": {
      "text/plain": [
       "[3, 1, 7, '5']"
      ]
     },
     "execution_count": 22,
     "metadata": {},
     "output_type": "execute_result"
    }
   ],
   "source": [
    "intersection([5,\"4\",3,1,3,2,7,\"5\",6,1,2,6,7,8], [1,\"5\",3,7,3])"
   ]
  },
  {
   "cell_type": "code",
   "execution_count": 23,
   "metadata": {},
   "outputs": [],
   "source": [
    "def intersection(lst1, lst2): \n",
    "    \"\"\"\n",
    "    Intersects two lists and returns an intersection without duplicates.\n",
    "    \n",
    "    :param lst1: list\n",
    "    :param lst2: list\n",
    "    _return: list\n",
    "    \"\"\"\n",
    "    uniquelst1 = lst1#uniqueSorted(sort(lst1))\n",
    "    uniquelst2 = lst2#uniqueSorted(sort(lst2))\n",
    "    interslst = []\n",
    "    for val in uniquelst1:\n",
    "        #if val in uniquelst2: # auf sort kann man verzichten: if val in uniquelst2 and not in interslst !!\n",
    "        if val in uniquelst2 and (val not in interslst):\n",
    "            interslst.append(val)\n",
    "    return interslst"
   ]
  },
  {
   "cell_type": "code",
   "execution_count": 24,
   "metadata": {},
   "outputs": [
    {
     "data": {
      "text/plain": [
       "[3, 1, 7, '5']"
      ]
     },
     "execution_count": 24,
     "metadata": {},
     "output_type": "execute_result"
    }
   ],
   "source": [
    "intersection([5,\"4\",3,1,3,2,7,\"5\",6,1,2,6,7,8], [1,\"5\",3,7,3])"
   ]
  },
  {
   "cell_type": "markdown",
   "metadata": {},
   "source": [
    "Nur unter Verwendung von Stoff aus der VL ist es auch möglich Listen zu schneiden und Duplikate zu entfernen. Der Einfachheit halber können wir die Liste zunächst sortieren (das ist sicher nicht sehr effizient, aber oben steht ja wie man es eigentlich machen würde)."
   ]
  },
  {
   "cell_type": "code",
   "execution_count": 3,
   "metadata": {},
   "outputs": [],
   "source": [
    "### brauchen wir nicht!\n",
    "\n",
    "def maximum(inputList):\n",
    "    \"\"\"\n",
    "    Returns the value and the index of the maximal value in a list.\n",
    "\n",
    "    :param inputList: type list\n",
    "    :return: value, index\n",
    "    \"\"\"\n",
    "    currentIndex = 0\n",
    "    currentVal = inputList[currentIndex]\n",
    "    for i, v in enumerate(inputList):\n",
    "        if v > currentVal:\n",
    "            currentIndex = i\n",
    "            currentVal = v\n",
    "    return currentVal, currentIndex\n",
    "\n",
    "def sort(inputList):\n",
    "    \"\"\"\n",
    "    Sorts the inputList and returns the result.\n",
    "\n",
    "    :param inputList: list\n",
    "    :return: list\n",
    "    \"\"\"\n",
    "    newList = []\n",
    "    while inputList:\n",
    "        value, index = maximum(inputList)\n",
    "        inputList.pop(index)\n",
    "        newList.append(value)\n",
    "    return newList"
   ]
  },
  {
   "cell_type": "code",
   "execution_count": 4,
   "metadata": {},
   "outputs": [],
   "source": [
    "### brauchen wir nicht!\n",
    "\n",
    "def uniqueSorted(sortedlst):\n",
    "    \"\"\"\n",
    "    Remove duplicates from a sorted list.\n",
    "    \n",
    "    :param sortedlst: list\n",
    "    :return: list\n",
    "    \"\"\"\n",
    "    uniquelst = []\n",
    "    while sortedlst:\n",
    "        uniquelst.append(sortedlst.pop(0))\n",
    "        while sortedlst and (uniquelst[-1] == sortedlst[0]):\n",
    "            sortedlst.pop(0)\n",
    "    return uniquelst"
   ]
  }
 ],
 "metadata": {
  "kernelspec": {
   "display_name": "Python 3",
   "language": "python",
   "name": "python3"
  },
  "language_info": {
   "codemirror_mode": {
    "name": "ipython",
    "version": 3
   },
   "file_extension": ".py",
   "mimetype": "text/x-python",
   "name": "python",
   "nbconvert_exporter": "python",
   "pygments_lexer": "ipython3",
   "version": "3.8.10"
  },
  "latex_envs": {
   "LaTeX_envs_menu_present": true,
   "autoclose": true,
   "autocomplete": true,
   "bibliofile": "biblio.bib",
   "cite_by": "apalike",
   "current_citInitial": 1,
   "eqLabelWithNumbers": true,
   "eqNumInitial": 1,
   "hotkeys": {
    "equation": "Ctrl-E",
    "itemize": "Ctrl-I"
   },
   "labels_anchors": false,
   "latex_user_defs": false,
   "report_style_numbering": false,
   "user_envs_cfg": false
  },
  "toc": {
   "base_numbering": 1,
   "nav_menu": {},
   "number_sections": true,
   "sideBar": true,
   "skip_h1_title": false,
   "title_cell": "Table of Contents",
   "title_sidebar": "Contents",
   "toc_cell": true,
   "toc_position": {},
   "toc_section_display": true,
   "toc_window_display": false
  },
  "varInspector": {
   "cols": {
    "lenName": 16,
    "lenType": 16,
    "lenVar": 40
   },
   "kernels_config": {
    "python": {
     "delete_cmd_postfix": "",
     "delete_cmd_prefix": "del ",
     "library": "var_list.py",
     "varRefreshCmd": "print(var_dic_list())"
    },
    "r": {
     "delete_cmd_postfix": ") ",
     "delete_cmd_prefix": "rm(",
     "library": "var_list.r",
     "varRefreshCmd": "cat(var_dic_list()) "
    }
   },
   "types_to_exclude": [
    "module",
    "function",
    "builtin_function_or_method",
    "instance",
    "_Feature"
   ],
   "window_display": false
  }
 },
 "nbformat": 4,
 "nbformat_minor": 4
}
