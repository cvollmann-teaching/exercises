{
 "cells": [
  {
   "cell_type": "markdown",
   "metadata": {},
   "source": [
    "### Notebook Environment\n",
    "\n",
    "Im unteren Beispiel verschwindet durch im Environment gespeicherte Variablen\n",
    "ein Fehler. Die Variable `a` is nämlich undefiniert. Das kann dazu führen, dass vor der Abgabe des Programmes ein Fehler nicht Sichtbar ist, und das Programm bei den Korrekteuren der Abgabe garnicht funktioniert.\n",
    "\n",
    "Deshalb ist es wichtig vor der Abgabe immer einmal `Restart the kernel, and re-run the whole notebook` als Test auszuführen."
   ]
  },
  {
   "cell_type": "code",
   "execution_count": 4,
   "metadata": {},
   "outputs": [],
   "source": [
    "b = 1"
   ]
  },
  {
   "cell_type": "code",
   "execution_count": 5,
   "metadata": {},
   "outputs": [],
   "source": [
    "for k in range(10):\n",
    "    b += a"
   ]
  },
  {
   "cell_type": "code",
   "execution_count": 6,
   "metadata": {},
   "outputs": [
    {
     "name": "stdout",
     "output_type": "stream",
     "text": [
      "b =  11\n"
     ]
    }
   ],
   "source": [
    "a = b\n",
    "print(\"b = \", a)"
   ]
  },
  {
   "cell_type": "code",
   "execution_count": null,
   "metadata": {},
   "outputs": [],
   "source": []
  }
 ],
 "metadata": {
  "kernelspec": {
   "display_name": "Python 3",
   "language": "python",
   "name": "python3"
  },
  "language_info": {
   "codemirror_mode": {
    "name": "ipython",
    "version": 3
   },
   "file_extension": ".py",
   "mimetype": "text/x-python",
   "name": "python",
   "nbconvert_exporter": "python",
   "pygments_lexer": "ipython3",
   "version": "3.6.9"
  }
 },
 "nbformat": 4,
 "nbformat_minor": 4
}
