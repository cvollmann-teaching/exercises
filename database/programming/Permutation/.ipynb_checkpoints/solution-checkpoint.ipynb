{
 "cells": [
  {
   "cell_type": "markdown",
   "metadata": {},
   "source": [
    "### Permutation\n",
    "\n",
    "(i)"
   ]
  },
  {
   "cell_type": "code",
   "execution_count": 1,
   "metadata": {},
   "outputs": [
    {
     "name": "stdout",
     "output_type": "stream",
     "text": [
      "Identity\n",
      "[1, 0, 2, 3]\n",
      "[1, 0, 2, 3]\n",
      "Test : [0, 1, 2, 3] \n",
      "\n",
      "Transposition\n",
      "[1, 0, 2, 3]\n",
      "[1, 0, 2, 3]\n",
      "Test : [0, 1, 2, 3] \n",
      "\n",
      "Cycle\n",
      "[1, 2, 3, 0]\n",
      "[3, 0, 1, 2]\n",
      "Test : [0, 1, 2, 3] \n",
      "\n"
     ]
    }
   ],
   "source": [
    "def transpose(perm):\n",
    "    \"\"\"\n",
    "    Returns the transpose of a permutaion perm (list, where i -> perm[i]).\n",
    "\n",
    "    :param perm: list\n",
    "    :return: list\n",
    "    \"\"\"\n",
    "    permT = [[]]*len(perm)\n",
    "    for i, a in enumerate(perm):\n",
    "        permT[a] = i\n",
    "    return permT\n",
    "\n",
    "print(\"Identity\")\n",
    "perm = [1, 0, 2, 3]\n",
    "print(perm)\n",
    "print(transpose(perm))\n",
    "print(\"Test :\", [perm[k] for k in transpose(perm)], \"\\n\")\n",
    "\n",
    "print(\"Transposition\")\n",
    "perm = [1, 0, 2, 3]\n",
    "print(perm)\n",
    "print(transpose(perm))\n",
    "print(\"Test :\", [perm[k] for k in transpose(perm)], \"\\n\")\n",
    "\n",
    "print(\"Cycle\")\n",
    "perm = [1, 2, 3, 0]\n",
    "print(perm)\n",
    "print(transpose(perm))\n",
    "print(\"Test :\", [perm[k] for k in transpose(perm)], \"\\n\")"
   ]
  },
  {
   "cell_type": "markdown",
   "metadata": {},
   "source": [
    "(ii) Die transponierte einer Permutation ist ihre Inverse. Das ermölicht hier einen einfachen Test."
   ]
  },
  {
   "cell_type": "code",
   "execution_count": 2,
   "metadata": {},
   "outputs": [
    {
     "name": "stdout",
     "output_type": "stream",
     "text": [
      "[0, 1, 2, 3]\n",
      "[0, 1, 2, 3]\n"
     ]
    }
   ],
   "source": [
    "print([perm[k] for k in transpose(perm)])\n",
    "\n",
    "# is the short form of\n",
    "newList = []\n",
    "for k in transpose(perm):\n",
    "    newList.append(perm[k])\n",
    "print(newList)"
   ]
  },
  {
   "cell_type": "markdown",
   "metadata": {},
   "source": [
    "### Inverse Permutation\n",
    "\n",
    "**Pseudo Code**"
   ]
  },
  {
   "cell_type": "raw",
   "metadata": {},
   "source": [
    "Input of some permutation L = (a0, ..., an-1) of length n.\n",
    "\n",
    "Create empty list M\n",
    "\n",
    "for all k in 0,..,n-1\n",
    "    a = L[k]\n",
    "    M[a] = k\n",
    "    \n",
    "print(\"L\", L)\n",
    "print(\"M\", M)"
   ]
  },
  {
   "cell_type": "markdown",
   "metadata": {},
   "source": [
    "**Python**"
   ]
  },
  {
   "cell_type": "code",
   "execution_count": 4,
   "metadata": {},
   "outputs": [
    {
     "name": "stdout",
     "output_type": "stream",
     "text": [
      "L [3, 1, 0, 2]\n",
      "M [2, 1, 3, 0]\n"
     ]
    }
   ],
   "source": [
    "L = [3,1,0,2]\n",
    "\n",
    "def invPerm(L):\n",
    "    \"\"\"docstring\"\"\"\n",
    "    n = len(L)  # length of list L\n",
    "    M = list(range(n))  # placeholder list for result\n",
    "    for k in range(n):  # iterate through the list, index by index\n",
    "        a = L[k]  # a is the k-th element of L\n",
    "        M[a] = k  # M_a is set to the index of a in L, i.e., k     \n",
    "    return M\n",
    "\n",
    "print(\"L\", L)\n",
    "M = invPerm(L)\n",
    "print(\"M\", M)"
   ]
  },
  {
   "cell_type": "markdown",
   "metadata": {},
   "source": [
    "**Test**\n",
    "\n",
    "Da es sich um die inverse Permutation handelt sollte die Anwendung der Inversen auf die ursprüngliche Permutation immer die Identität ergeben."
   ]
  },
  {
   "cell_type": "code",
   "execution_count": 2,
   "metadata": {},
   "outputs": [
    {
     "name": "stdout",
     "output_type": "stream",
     "text": [
      "[0, 1, 2, 3]\n"
     ]
    }
   ],
   "source": [
    "# M is the \"right inverse\" of L\n",
    "print([L[m] for m in M])"
   ]
  },
  {
   "cell_type": "code",
   "execution_count": 3,
   "metadata": {},
   "outputs": [
    {
     "name": "stdout",
     "output_type": "stream",
     "text": [
      "[0, 1, 2, 3]\n"
     ]
    }
   ],
   "source": [
    "# M is the \"left inverse\" of L\n",
    "print([M[l] for l in L])"
   ]
  },
  {
   "cell_type": "code",
   "execution_count": null,
   "metadata": {},
   "outputs": [],
   "source": []
  }
 ],
 "metadata": {
  "kernelspec": {
   "display_name": "Python 3",
   "language": "python",
   "name": "python3"
  },
  "language_info": {
   "codemirror_mode": {
    "name": "ipython",
    "version": 3
   },
   "file_extension": ".py",
   "mimetype": "text/x-python",
   "name": "python",
   "nbconvert_exporter": "python",
   "pygments_lexer": "ipython3",
   "version": "3.8.10"
  },
  "latex_envs": {
   "LaTeX_envs_menu_present": true,
   "autoclose": true,
   "autocomplete": true,
   "bibliofile": "biblio.bib",
   "cite_by": "apalike",
   "current_citInitial": 1,
   "eqLabelWithNumbers": true,
   "eqNumInitial": 1,
   "hotkeys": {
    "equation": "Ctrl-E",
    "itemize": "Ctrl-I"
   },
   "labels_anchors": false,
   "latex_user_defs": false,
   "report_style_numbering": false,
   "user_envs_cfg": false
  },
  "toc": {
   "base_numbering": 1,
   "nav_menu": {},
   "number_sections": true,
   "sideBar": true,
   "skip_h1_title": false,
   "title_cell": "Table of Contents",
   "title_sidebar": "Contents",
   "toc_cell": true,
   "toc_position": {},
   "toc_section_display": true,
   "toc_window_display": false
  }
 },
 "nbformat": 4,
 "nbformat_minor": 4
}
